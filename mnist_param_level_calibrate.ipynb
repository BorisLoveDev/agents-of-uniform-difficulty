{
  "nbformat": 4,
  "nbformat_minor": 0,
  "metadata": {
    "colab": {
      "provenance": [],
      "gpuType": "T4",
      "authorship_tag": "ABX9TyPtiuyqXHy09ZaUY/RjEA/f",
      "include_colab_link": true
    },
    "kernelspec": {
      "name": "python3",
      "display_name": "Python 3"
    },
    "language_info": {
      "name": "python"
    },
    "accelerator": "GPU"
  },
  "cells": [
    {
      "cell_type": "markdown",
      "metadata": {
        "id": "view-in-github",
        "colab_type": "text"
      },
      "source": [
        "<a href=\"https://colab.research.google.com/github/BorisLoveDev/agents-of-uniform-difficulty/blob/main/mnist_param_level_calibrate.ipynb\" target=\"_parent\"><img src=\"https://colab.research.google.com/assets/colab-badge.svg\" alt=\"Open In Colab\"/></a>"
      ]
    },
    {
      "cell_type": "code",
      "source": [
        "import numpy as np\n",
        "from tensorflow.keras.layers import Conv2D, MaxPooling2D, Dropout\n",
        "from tensorflow.keras.datasets import mnist\n",
        "from tensorflow.keras.utils import to_categorical\n",
        "from tensorflow.keras.models import Sequential\n",
        "from tensorflow.keras.layers import Dense, Flatten\n",
        "from tensorflow.keras.optimizers import Adam\n",
        "from sklearn.model_selection import train_test_split\n",
        "import matplotlib.pyplot as plt\n",
        "import os"
      ],
      "metadata": {
        "id": "-LESJJ9u7bjU"
      },
      "execution_count": 1,
      "outputs": []
    },
    {
      "cell_type": "code",
      "source": [
        "from google.colab import drive\n",
        "# Подключение Google Drive\n",
        "drive.mount('/content/drive')"
      ],
      "metadata": {
        "id": "kNm_F8qC7dug",
        "colab": {
          "base_uri": "https://localhost:8080/"
        },
        "outputId": "10bc83fb-8630-4e56-d896-ffa87ee529e9"
      },
      "execution_count": 2,
      "outputs": [
        {
          "output_type": "stream",
          "name": "stdout",
          "text": [
            "Mounted at /content/drive\n"
          ]
        }
      ]
    },
    {
      "cell_type": "code",
      "source": [
        "# Загрузка и нормализация данных MNIST\n",
        "(x_train, y_train), (x_test, y_test) = mnist.load_data()\n",
        "x_train = x_train / 255.0\n",
        "x_test = x_test / 255.0\n",
        "\n",
        "# Применение one-hot encoding\n",
        "y_test_ohe = to_categorical(y_test, 10)\n",
        "y_train_ohe = to_categorical(y_train, 10)\n",
        "y_train_ohe.shape"
      ],
      "metadata": {
        "id": "p6SUnaDC7ogF",
        "colab": {
          "base_uri": "https://localhost:8080/"
        },
        "outputId": "93259817-2cdc-4035-8367-1e2833623acb"
      },
      "execution_count": 3,
      "outputs": [
        {
          "output_type": "stream",
          "name": "stdout",
          "text": [
            "Downloading data from https://storage.googleapis.com/tensorflow/tf-keras-datasets/mnist.npz\n",
            "11490434/11490434 [==============================] - 0s 0us/step\n"
          ]
        },
        {
          "output_type": "execute_result",
          "data": {
            "text/plain": [
              "(60000, 10)"
            ]
          },
          "metadata": {},
          "execution_count": 3
        }
      ]
    },
    {
      "cell_type": "code",
      "source": [
        "# Загрузка данных для уровня сложности 0\n",
        "x_data_level_0 = np.load('/content/drive/MyDrive/all_difficulty_data_mnist/x_data_difficult_level_0.npy')\n",
        "y_data_level_0 = np.load('/content/drive/MyDrive/all_difficulty_data_mnist/y_data_difficult_level_0.npy')\n",
        "\n",
        "# Загрузка данных для уровня сложности 6\n",
        "x_data_level_6 = np.load('/content/drive/MyDrive/all_difficulty_data_mnist/x_data_difficult_level_6.npy')\n",
        "y_data_level_6 = np.load('/content/drive/MyDrive/all_difficulty_data_mnist/y_data_difficult_level_6.npy')\n"
      ],
      "metadata": {
        "id": "9MoPMuvofpYT"
      },
      "execution_count": 4,
      "outputs": []
    },
    {
      "cell_type": "code",
      "source": [
        "# Вывод 6 изображений для уровня сложности 0\n",
        "plt.figure(figsize=(12, 4))\n",
        "for i in range(6):\n",
        "    plt.subplot(2, 6, i+1)\n",
        "    plt.imshow(x_data_level_0[i].reshape(28, 28), cmap='gray')\n",
        "    plt.title(f\"Лейбл: {y_data_level_0[i]}\")\n",
        "    plt.axis('off')\n",
        "\n",
        "# Вывод 6 изображений для уровня сложности 6\n",
        "for i in range(6):\n",
        "    plt.subplot(2, 6, i+7)\n",
        "    plt.imshow(x_data_level_6[i].reshape(28, 28), cmap='gray')\n",
        "    plt.title(f\"Лейбл: {y_data_level_6[i]}\")\n",
        "    plt.axis('off')\n",
        "    plt.suptitle('Хорошо различимые и неразличимые изображения', y=1)\n",
        "\n",
        "plt.tight_layout()\n",
        "plt.show()\n"
      ],
      "metadata": {
        "colab": {
          "base_uri": "https://localhost:8080/",
          "height": 421
        },
        "id": "kmznhBJnei6P",
        "outputId": "259877ed-6749-4627-e259-1e4b1552b082"
      },
      "execution_count": 5,
      "outputs": [
        {
          "output_type": "display_data",
          "data": {
            "text/plain": [
              "<Figure size 1200x400 with 12 Axes>"
            ],
            "image/png": "[encoded data removed]"
          },
          "metadata": {}
        }
      ]
    },
    {
      "cell_type": "code",
      "source": [
        "# Функция для деформации изображения, как определено ранее\n",
        "def deform_image_optimized(image, A, B, M=28, NP=5):\n",
        "    C = M / (NP + 1.0)\n",
        "    XN, YN = np.zeros(M), np.zeros(M)\n",
        "    DX, DY = np.linspace(0, M-1, M), np.linspace(0, M-1, M)\n",
        "\n",
        "    for j in range(NP):\n",
        "        TXN = (j + 0.5 - np.random.random()) * C\n",
        "        TYN = (j + 0.5 - np.random.random()) * C\n",
        "        TDX = (j + 0.5 - np.random.random()) * C\n",
        "        TDY = (j + 0.5 - np.random.random()) * C\n",
        "        AXN = B * (1.0 - 2.0 * np.random.random())\n",
        "        AYN = B * (1.0 - 2.0 * np.random.random())\n",
        "        ADX = A * (1.0 - 2.0 * np.random.random())\n",
        "        ADY = A * (1.0 - 2.0 * np.random.random())\n",
        "        PXN = (0.1 + 0.9 * np.random.random()) * C\n",
        "        PYN = (0.1 + 0.9 * np.random.random()) * C\n",
        "        PDX = (0.1 + 0.9 * np.random.random()) * C\n",
        "        PDY = (0.1 + 0.9 * np.random.random()) * C\n",
        "\n",
        "        DX += ADX * np.exp(-((DX - TDX) / PDX)**2)\n",
        "        DY += ADY * np.exp(-((DY - TDY) / PDY)**2)\n",
        "        XN += AXN * np.exp(-((DX - TXN) / PXN)**2)\n",
        "        YN += AYN * np.exp(-((DY - TYN) / PYN)**2)\n",
        "\n",
        "    deformed_image = np.zeros((M, M))\n",
        "    for j in range(M):\n",
        "        for i in range(M):\n",
        "            x_index = int(DX[i] + XN[j])\n",
        "            y_index = int(DY[j] + YN[i])\n",
        "            if 0 <= x_index < M and 0 <= y_index < M:\n",
        "                deformed_image[j, i] = image[y_index, x_index] if y_index < image.shape[0] and x_index < image.shape[1] else 0\n",
        "\n",
        "    return deformed_image"
      ],
      "metadata": {
        "id": "IDDXpVxmATsD"
      },
      "execution_count": 6,
      "outputs": []
    },
    {
      "cell_type": "code",
      "source": [
        "# Параметры деформации для разных уровней сложности\n",
        "# deform_params = {\n",
        "#     \"1\": (0.2, 1.0),\n",
        "#     \"2\": (0.4, 2.0),\n",
        "#     \"3\": (0.6, 3.0),\n",
        "#     \"4\": (0.8, 4.0),\n",
        "#     \"5\": (1, 5.0),\n",
        "# }\n",
        "# c шагом 15%\n",
        "# deform_params = {\n",
        "#     \"1\": (0.45, 2.8),\n",
        "#     \"2\": (0.6, 3.8),\n",
        "#     \"3\": (0.75, 4.9),\n",
        "#     \"4\": (0.9, 5.9),\n",
        "#     \"5\": (2, 8),\n",
        "# }\n",
        "\n",
        "# By V.I.\n",
        "\n",
        "# Диапазоны по вероятностям\n",
        "# 1.000 - 0.996 - идеальные + 0\n",
        "# 0.996-0.963 - очень лёгкие + 1\n",
        "# 0.963-0.742 - лёгкие + 2\n",
        "# 0.740-0.260  - средние + 3\n",
        "# 0.2-0-0.037 - трудные + 4\n",
        "# 0.037-0.004 - очень трудные - 5 не получается сделать меньше 10%\n",
        "# 0.004-0.000 - неразличимые 6\n",
        "\n",
        "deform_params = {\n",
        "    \"1\": (0.2, 1.0),\n",
        "    \"2\": (0.4, 3.0),\n",
        "    \"3\": (1, 5.0),\n",
        "    \"4\": (3.5, 9.5),\n",
        "    \"5\": (5, 15),\n",
        "}"
      ],
      "metadata": {
        "id": "faAey5shAUeY"
      },
      "execution_count": 23,
      "outputs": []
    },
    {
      "cell_type": "code",
      "source": [
        "\n",
        "# Создание каллибровочной сети\n",
        "model2 = Sequential([\n",
        "    Conv2D(64, kernel_size=(3, 3), activation='relu', input_shape=(28, 28, 1)),\n",
        "    MaxPooling2D(pool_size=(2, 2)),\n",
        "    Conv2D(128, (3, 3), activation='relu'),\n",
        "    MaxPooling2D(pool_size=(2, 2)),\n",
        "    Dropout(0.25),\n",
        "    Flatten(),\n",
        "    Dense(256, activation='relu'),\n",
        "    Dropout(0.5),\n",
        "    Dense(10, activation='softmax')\n",
        "])\n",
        "\n",
        "model2.compile(optimizer='adam', loss='categorical_crossentropy', metrics=['accuracy'])\n",
        "\n",
        "# Обучение model2 на тренировочных данных\n",
        "model2.fit(x_train, y_train_ohe, epochs=10, batch_size=128, validation_split=0.1, verbose=1)\n"
      ],
      "metadata": {
        "colab": {
          "base_uri": "https://localhost:8080/"
        },
        "id": "9c3hP--Ag5DI",
        "outputId": "5ada6685-509e-45a2-9032-cea122016584"
      },
      "execution_count": 8,
      "outputs": [
        {
          "output_type": "stream",
          "name": "stdout",
          "text": [
            "Epoch 1/10\n",
            "422/422 [==============================] - 9s 10ms/step - loss: 0.2274 - accuracy: 0.9299 - val_loss: 0.0440 - val_accuracy: 0.9870\n",
            "Epoch 2/10\n",
            "422/422 [==============================] - 3s 8ms/step - loss: 0.0693 - accuracy: 0.9790 - val_loss: 0.0343 - val_accuracy: 0.9898\n",
            "Epoch 3/10\n",
            "422/422 [==============================] - 3s 8ms/step - loss: 0.0511 - accuracy: 0.9842 - val_loss: 0.0321 - val_accuracy: 0.9912\n",
            "Epoch 4/10\n",
            "422/422 [==============================] - 3s 7ms/step - loss: 0.0419 - accuracy: 0.9864 - val_loss: 0.0288 - val_accuracy: 0.9923\n",
            "Epoch 5/10\n",
            "422/422 [==============================] - 3s 8ms/step - loss: 0.0339 - accuracy: 0.9893 - val_loss: 0.0308 - val_accuracy: 0.9923\n",
            "Epoch 6/10\n",
            "422/422 [==============================] - 3s 8ms/step - loss: 0.0298 - accuracy: 0.9907 - val_loss: 0.0313 - val_accuracy: 0.9917\n",
            "Epoch 7/10\n",
            "422/422 [==============================] - 3s 7ms/step - loss: 0.0251 - accuracy: 0.9912 - val_loss: 0.0325 - val_accuracy: 0.9908\n",
            "Epoch 8/10\n",
            "422/422 [==============================] - 3s 7ms/step - loss: 0.0223 - accuracy: 0.9929 - val_loss: 0.0308 - val_accuracy: 0.9920\n",
            "Epoch 9/10\n",
            "422/422 [==============================] - 4s 10ms/step - loss: 0.0209 - accuracy: 0.9932 - val_loss: 0.0314 - val_accuracy: 0.9917\n",
            "Epoch 10/10\n",
            "422/422 [==============================] - 5s 11ms/step - loss: 0.0193 - accuracy: 0.9937 - val_loss: 0.0288 - val_accuracy: 0.9932\n"
          ]
        },
        {
          "output_type": "execute_result",
          "data": {
            "text/plain": [
              "<keras.src.callbacks.History at 0x7aba5a943e50>"
            ]
          },
          "metadata": {},
          "execution_count": 8
        }
      ]
    },
    {
      "cell_type": "code",
      "source": [
        "# Сначала необходимо преобразовать x_test к формату, совместимому с моделью\n",
        "x_test_reshaped = x_test.reshape(-1, 28, 28, 1)\n",
        "\n",
        "# Оценка точности на тестовом наборе\n",
        "loss, accuracy = model2.evaluate(x_test_reshaped, y_test_ohe, verbose=0)\n",
        "print(f\"Точность на тестовых данных: {accuracy*100:.2f}%\")"
      ],
      "metadata": {
        "colab": {
          "base_uri": "https://localhost:8080/"
        },
        "id": "K0fdMiTchDJy",
        "outputId": "7301d941-409c-4cd5-b554-1b384ad2f627"
      },
      "execution_count": 9,
      "outputs": [
        {
          "output_type": "stream",
          "name": "stdout",
          "text": [
            "Точность на тестовых данных: 99.16%\n"
          ]
        }
      ]
    },
    {
      "cell_type": "code",
      "source": [
        "def test_and_show_deformed_images(x_test, y_test_ohe, model, level, deform_params):\n",
        "    \"\"\"\n",
        "    Деформирует тестовые данные на заданном уровне, отображает первые 6 деформированных изображений,\n",
        "    и оценивает модель на этих данных.\n",
        "\n",
        "    Parameters:\n",
        "    - x_test: np.array, исходные тестовые данные.\n",
        "    - y_test_ohe: np.array, метки классов в формате one-hot encoding.\n",
        "    - model: обученная модель Keras.\n",
        "    - level: str, уровень деформации, ключ в словаре deform_params.\n",
        "    - deform_params: dict, словарь с параметрами деформации для каждого уровня.\n",
        "    \"\"\"\n",
        "\n",
        "    if level not in deform_params:\n",
        "        print(f\"Уровень деформации {level} не найден.\")\n",
        "        return\n",
        "\n",
        "    # Извлечение параметров деформации для заданного уровня\n",
        "    A, B = deform_params[level]\n",
        "\n",
        "    # Создание деформированных данных для заданного уровня\n",
        "    deformed_images = np.array([deform_image_optimized(image.reshape(28, 28), A, B) for image in x_test]).reshape(-1, 28, 28, 1)\n",
        "\n",
        "    # Оценка точности модели на деформированных данных\n",
        "    loss, accuracy = model.evaluate(deformed_images, y_test_ohe, verbose=0)\n",
        "    print(f\"Точность на уровне деформации {level}: {accuracy*100:.2f}%\")\n",
        "\n",
        "    # Вывод первых 6 деформированных изображений\n",
        "    plt.figure(figsize=(10, 2))\n",
        "    for i in range(6):\n",
        "        plt.subplot(1, 6, i+1)\n",
        "        plt.imshow(deformed_images[i].reshape(28, 28), cmap='gray')\n",
        "        plt.title(f\"Лейбл: {y_test[i]}\")\n",
        "        plt.axis('off')\n",
        "    plt.suptitle(f'Первые 6 деформированных изображений на уровне {level}')\n",
        "    plt.show()"
      ],
      "metadata": {
        "id": "pdMBuxgOimMM"
      },
      "execution_count": 10,
      "outputs": []
    },
    {
      "cell_type": "code",
      "source": [
        "# Пример использования функции для уровня деформации\n",
        "test_and_show_deformed_images(x_test_reshaped, y_test_ohe, model2, '5', deform_params)"
      ],
      "metadata": {
        "colab": {
          "base_uri": "https://localhost:8080/",
          "height": 207
        },
        "id": "bkzvZ_UJisOE",
        "outputId": "15b61eef-0e91-4184-dc4f-b03f856921c5"
      },
      "execution_count": 25,
      "outputs": [
        {
          "output_type": "stream",
          "name": "stdout",
          "text": [
            "Точность на уровне деформации 5: 14.04%\n"
          ]
        },
        {
          "output_type": "display_data",
          "data": {
            "text/plain": [
              "<Figure size 1000x200 with 6 Axes>"
            ],
            "image/png": "[encoded data removed]"
          },
          "metadata": {}
        }
      ]
    },
    {
      "cell_type": "code",
      "source": [
        "def generate_deformed_data(x_data, deform_params):\n",
        "    # Создание словаря для хранения деформированных данных по уровням сложности\n",
        "    deformed_data = {}\n",
        "    for level, params in deform_params.items():\n",
        "        A, B = params\n",
        "        # Деформация всех тестовых изображений согласно текущим параметрам деформации\n",
        "        deformed_images = np.array([deform_image_optimized(image.reshape(28, 28), A, B) for image in x_data]).reshape(-1, 28, 28, 1)\n",
        "        deformed_data[level] = deformed_images\n",
        "    return deformed_data\n",
        "\n",
        "# Генерация деформированных тестовых данных для каждого уровня сложности\n",
        "deformed_test_data = generate_deformed_data(x_test, deform_params)\n"
      ],
      "metadata": {
        "id": "Uq65mXathOlq",
        "outputId": "71fdc114-a90e-401c-eef2-b65779d5cc21",
        "colab": {
          "base_uri": "https://localhost:8080/",
          "height": 335
        }
      },
      "execution_count": 12,
      "outputs": [
        {
          "output_type": "error",
          "ename": "KeyboardInterrupt",
          "evalue": "",
          "traceback": [
            "\u001b[0;31m---------------------------------------------------------------------------\u001b[0m",
            "\u001b[0;31mKeyboardInterrupt\u001b[0m                         Traceback (most recent call last)",
            "\u001b[0;32m<ipython-input-12-dd40eba23952>\u001b[0m in \u001b[0;36m<cell line: 12>\u001b[0;34m()\u001b[0m\n\u001b[1;32m     10\u001b[0m \u001b[0;34m\u001b[0m\u001b[0m\n\u001b[1;32m     11\u001b[0m \u001b[0;31m# Генерация деформированных тестовых данных для каждого уровня сложности\u001b[0m\u001b[0;34m\u001b[0m\u001b[0;34m\u001b[0m\u001b[0m\n\u001b[0;32m---> 12\u001b[0;31m \u001b[0mdeformed_test_data\u001b[0m \u001b[0;34m=\u001b[0m \u001b[0mgenerate_deformed_data\u001b[0m\u001b[0;34m(\u001b[0m\u001b[0mx_test\u001b[0m\u001b[0;34m,\u001b[0m \u001b[0mdeform_params\u001b[0m\u001b[0;34m)\u001b[0m\u001b[0;34m\u001b[0m\u001b[0;34m\u001b[0m\u001b[0m\n\u001b[0m",
            "\u001b[0;32m<ipython-input-12-dd40eba23952>\u001b[0m in \u001b[0;36mgenerate_deformed_data\u001b[0;34m(x_data, deform_params)\u001b[0m\n\u001b[1;32m      5\u001b[0m         \u001b[0mA\u001b[0m\u001b[0;34m,\u001b[0m \u001b[0mB\u001b[0m \u001b[0;34m=\u001b[0m \u001b[0mparams\u001b[0m\u001b[0;34m\u001b[0m\u001b[0;34m\u001b[0m\u001b[0m\n\u001b[1;32m      6\u001b[0m         \u001b[0;31m# Деформация всех тестовых изображений согласно текущим параметрам деформации\u001b[0m\u001b[0;34m\u001b[0m\u001b[0;34m\u001b[0m\u001b[0m\n\u001b[0;32m----> 7\u001b[0;31m         \u001b[0mdeformed_images\u001b[0m \u001b[0;34m=\u001b[0m \u001b[0mnp\u001b[0m\u001b[0;34m.\u001b[0m\u001b[0marray\u001b[0m\u001b[0;34m(\u001b[0m\u001b[0;34m[\u001b[0m\u001b[0mdeform_image_optimized\u001b[0m\u001b[0;34m(\u001b[0m\u001b[0mimage\u001b[0m\u001b[0;34m.\u001b[0m\u001b[0mreshape\u001b[0m\u001b[0;34m(\u001b[0m\u001b[0;36m28\u001b[0m\u001b[0;34m,\u001b[0m \u001b[0;36m28\u001b[0m\u001b[0;34m)\u001b[0m\u001b[0;34m,\u001b[0m \u001b[0mA\u001b[0m\u001b[0;34m,\u001b[0m \u001b[0mB\u001b[0m\u001b[0;34m)\u001b[0m \u001b[0;32mfor\u001b[0m \u001b[0mimage\u001b[0m \u001b[0;32min\u001b[0m \u001b[0mx_data\u001b[0m\u001b[0;34m]\u001b[0m\u001b[0;34m)\u001b[0m\u001b[0;34m.\u001b[0m\u001b[0mreshape\u001b[0m\u001b[0;34m(\u001b[0m\u001b[0;34m-\u001b[0m\u001b[0;36m1\u001b[0m\u001b[0;34m,\u001b[0m \u001b[0;36m28\u001b[0m\u001b[0;34m,\u001b[0m \u001b[0;36m28\u001b[0m\u001b[0;34m,\u001b[0m \u001b[0;36m1\u001b[0m\u001b[0;34m)\u001b[0m\u001b[0;34m\u001b[0m\u001b[0;34m\u001b[0m\u001b[0m\n\u001b[0m\u001b[1;32m      8\u001b[0m         \u001b[0mdeformed_data\u001b[0m\u001b[0;34m[\u001b[0m\u001b[0mlevel\u001b[0m\u001b[0;34m]\u001b[0m \u001b[0;34m=\u001b[0m \u001b[0mdeformed_images\u001b[0m\u001b[0;34m\u001b[0m\u001b[0;34m\u001b[0m\u001b[0m\n\u001b[1;32m      9\u001b[0m     \u001b[0;32mreturn\u001b[0m \u001b[0mdeformed_data\u001b[0m\u001b[0;34m\u001b[0m\u001b[0;34m\u001b[0m\u001b[0m\n",
            "\u001b[0;32m<ipython-input-12-dd40eba23952>\u001b[0m in \u001b[0;36m<listcomp>\u001b[0;34m(.0)\u001b[0m\n\u001b[1;32m      5\u001b[0m         \u001b[0mA\u001b[0m\u001b[0;34m,\u001b[0m \u001b[0mB\u001b[0m \u001b[0;34m=\u001b[0m \u001b[0mparams\u001b[0m\u001b[0;34m\u001b[0m\u001b[0;34m\u001b[0m\u001b[0m\n\u001b[1;32m      6\u001b[0m         \u001b[0;31m# Деформация всех тестовых изображений согласно текущим параметрам деформации\u001b[0m\u001b[0;34m\u001b[0m\u001b[0;34m\u001b[0m\u001b[0m\n\u001b[0;32m----> 7\u001b[0;31m         \u001b[0mdeformed_images\u001b[0m \u001b[0;34m=\u001b[0m \u001b[0mnp\u001b[0m\u001b[0;34m.\u001b[0m\u001b[0marray\u001b[0m\u001b[0;34m(\u001b[0m\u001b[0;34m[\u001b[0m\u001b[0mdeform_image_optimized\u001b[0m\u001b[0;34m(\u001b[0m\u001b[0mimage\u001b[0m\u001b[0;34m.\u001b[0m\u001b[0mreshape\u001b[0m\u001b[0;34m(\u001b[0m\u001b[0;36m28\u001b[0m\u001b[0;34m,\u001b[0m \u001b[0;36m28\u001b[0m\u001b[0;34m)\u001b[0m\u001b[0;34m,\u001b[0m \u001b[0mA\u001b[0m\u001b[0;34m,\u001b[0m \u001b[0mB\u001b[0m\u001b[0;34m)\u001b[0m \u001b[0;32mfor\u001b[0m \u001b[0mimage\u001b[0m \u001b[0;32min\u001b[0m \u001b[0mx_data\u001b[0m\u001b[0;34m]\u001b[0m\u001b[0;34m)\u001b[0m\u001b[0;34m.\u001b[0m\u001b[0mreshape\u001b[0m\u001b[0;34m(\u001b[0m\u001b[0;34m-\u001b[0m\u001b[0;36m1\u001b[0m\u001b[0;34m,\u001b[0m \u001b[0;36m28\u001b[0m\u001b[0;34m,\u001b[0m \u001b[0;36m28\u001b[0m\u001b[0;34m,\u001b[0m \u001b[0;36m1\u001b[0m\u001b[0;34m)\u001b[0m\u001b[0;34m\u001b[0m\u001b[0;34m\u001b[0m\u001b[0m\n\u001b[0m\u001b[1;32m      8\u001b[0m         \u001b[0mdeformed_data\u001b[0m\u001b[0;34m[\u001b[0m\u001b[0mlevel\u001b[0m\u001b[0;34m]\u001b[0m \u001b[0;34m=\u001b[0m \u001b[0mdeformed_images\u001b[0m\u001b[0;34m\u001b[0m\u001b[0;34m\u001b[0m\u001b[0m\n\u001b[1;32m      9\u001b[0m     \u001b[0;32mreturn\u001b[0m \u001b[0mdeformed_data\u001b[0m\u001b[0;34m\u001b[0m\u001b[0;34m\u001b[0m\u001b[0m\n",
            "\u001b[0;32m<ipython-input-6-6b35f0127f8e>\u001b[0m in \u001b[0;36mdeform_image_optimized\u001b[0;34m(image, A, B, M, NP)\u001b[0m\n\u001b[1;32m      1\u001b[0m \u001b[0;31m# Функция для деформации изображения, как определено ранее\u001b[0m\u001b[0;34m\u001b[0m\u001b[0;34m\u001b[0m\u001b[0m\n\u001b[1;32m      2\u001b[0m \u001b[0;32mdef\u001b[0m \u001b[0mdeform_image_optimized\u001b[0m\u001b[0;34m(\u001b[0m\u001b[0mimage\u001b[0m\u001b[0;34m,\u001b[0m \u001b[0mA\u001b[0m\u001b[0;34m,\u001b[0m \u001b[0mB\u001b[0m\u001b[0;34m,\u001b[0m \u001b[0mM\u001b[0m\u001b[0;34m=\u001b[0m\u001b[0;36m28\u001b[0m\u001b[0;34m,\u001b[0m \u001b[0mNP\u001b[0m\u001b[0;34m=\u001b[0m\u001b[0;36m5\u001b[0m\u001b[0;34m)\u001b[0m\u001b[0;34m:\u001b[0m\u001b[0;34m\u001b[0m\u001b[0;34m\u001b[0m\u001b[0m\n\u001b[1;32m      3\u001b[0m     \u001b[0mC\u001b[0m \u001b[0;34m=\u001b[0m \u001b[0mM\u001b[0m \u001b[0;34m/\u001b[0m \u001b[0;34m(\u001b[0m\u001b[0mNP\u001b[0m \u001b[0;34m+\u001b[0m \u001b[0;36m1.0\u001b[0m\u001b[0;34m)\u001b[0m\u001b[0;34m\u001b[0m\u001b[0;34m\u001b[0m\u001b[0m\n\u001b[1;32m      4\u001b[0m     \u001b[0mXN\u001b[0m\u001b[0;34m,\u001b[0m \u001b[0mYN\u001b[0m \u001b[0;34m=\u001b[0m \u001b[0mnp\u001b[0m\u001b[0;34m.\u001b[0m\u001b[0mzeros\u001b[0m\u001b[0;34m(\u001b[0m\u001b[0mM\u001b[0m\u001b[0;34m)\u001b[0m\u001b[0;34m,\u001b[0m \u001b[0mnp\u001b[0m\u001b[0;34m.\u001b[0m\u001b[0mzeros\u001b[0m\u001b[0;34m(\u001b[0m\u001b[0mM\u001b[0m\u001b[0;34m)\u001b[0m\u001b[0;34m\u001b[0m\u001b[0;34m\u001b[0m\u001b[0m\n\u001b[1;32m      5\u001b[0m     \u001b[0mDX\u001b[0m\u001b[0;34m,\u001b[0m \u001b[0mDY\u001b[0m \u001b[0;34m=\u001b[0m \u001b[0mnp\u001b[0m\u001b[0;34m.\u001b[0m\u001b[0mlinspace\u001b[0m\u001b[0;34m(\u001b[0m\u001b[0;36m0\u001b[0m\u001b[0;34m,\u001b[0m \u001b[0mM\u001b[0m\u001b[0;34m-\u001b[0m\u001b[0;36m1\u001b[0m\u001b[0;34m,\u001b[0m \u001b[0mM\u001b[0m\u001b[0;34m)\u001b[0m\u001b[0;34m,\u001b[0m \u001b[0mnp\u001b[0m\u001b[0;34m.\u001b[0m\u001b[0mlinspace\u001b[0m\u001b[0;34m(\u001b[0m\u001b[0;36m0\u001b[0m\u001b[0;34m,\u001b[0m \u001b[0mM\u001b[0m\u001b[0;34m-\u001b[0m\u001b[0;36m1\u001b[0m\u001b[0;34m,\u001b[0m \u001b[0mM\u001b[0m\u001b[0;34m)\u001b[0m\u001b[0;34m\u001b[0m\u001b[0;34m\u001b[0m\u001b[0m\n",
            "\u001b[0;31mKeyboardInterrupt\u001b[0m: "
          ]
        }
      ]
    },
    {
      "cell_type": "code",
      "source": [
        "for level, data in deformed_test_data.items():\n",
        "    # Оценка точности модели на деформированных данных для текущего уровня сложности\n",
        "    loss, accuracy = model2.evaluate(data, y_test_ohe, verbose=0)\n",
        "    print(f\"Точность на уровне деформации {level}: {accuracy*100:.2f}%\")\n"
      ],
      "metadata": {
        "colab": {
          "base_uri": "https://localhost:8080/"
        },
        "id": "CVP8MMyEhuQE",
        "outputId": "95d4c71f-f32b-4084-b9b6-e52df0052516"
      },
      "execution_count": null,
      "outputs": [
        {
          "output_type": "stream",
          "name": "stdout",
          "text": [
            "Точность на уровне деформации 1: 98.35%\n",
            "Точность на уровне деформации 2: 94.64%\n",
            "Точность на уровне деформации 3: 82.02%\n",
            "Точность на уровне деформации 4: 65.83%\n",
            "Точность на уровне деформации 5: 50.60%\n"
          ]
        }
      ]
    }
  ]
}