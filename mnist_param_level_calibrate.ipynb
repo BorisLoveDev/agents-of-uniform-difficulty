{
  "nbformat": 4,
  "nbformat_minor": 0,
  "metadata": {
    "colab": {
      "provenance": [],
      "gpuType": "T4",
      "authorship_tag": "ABX9TyPBLfSFsqPB8PrWKZYFjQ1a",
      "include_colab_link": true
    },
    "kernelspec": {
      "name": "python3",
      "display_name": "Python 3"
    },
    "language_info": {
      "name": "python"
    },
    "accelerator": "GPU"
  },
  "cells": [
    {
      "cell_type": "markdown",
      "metadata": {
        "id": "view-in-github",
        "colab_type": "text"
      },
      "source": [
        "<a href=\"https://colab.research.google.com/github/BorisLoveDev/agents-of-uniform-difficulty/blob/main/mnist_param_level_calibrate.ipynb\" target=\"_parent\"><img src=\"https://colab.research.google.com/assets/colab-badge.svg\" alt=\"Open In Colab\"/></a>"
      ]
    },
    {
      "cell_type": "code",
      "source": [
        "import numpy as np\n",
        "from tensorflow.keras.layers import Conv2D, MaxPooling2D, Dropout\n",
        "from tensorflow.keras.datasets import mnist\n",
        "from tensorflow.keras.utils import to_categorical\n",
        "from tensorflow.keras.models import Sequential\n",
        "from tensorflow.keras.layers import Dense, Flatten\n",
        "from tensorflow.keras.optimizers import Adam\n",
        "from sklearn.model_selection import train_test_split\n",
        "import matplotlib.pyplot as plt\n",
        "import os"
      ],
      "metadata": {
        "id": "-LESJJ9u7bjU"
      },
      "execution_count": null,
      "outputs": []
    },
    {
      "cell_type": "code",
      "source": [
        "from google.colab import drive\n",
        "# Подключение Google Drive\n",
        "drive.mount('/content/drive')"
      ],
      "metadata": {
        "id": "kNm_F8qC7dug",
        "colab": {
          "base_uri": "https://localhost:8080/"
        },
        "outputId": "2297d9db-61f7-4356-9511-e47c9a38accc"
      },
      "execution_count": null,
      "outputs": [
        {
          "output_type": "stream",
          "name": "stdout",
          "text": [
            "Mounted at /content/drive\n"
          ]
        }
      ]
    },
    {
      "cell_type": "code",
      "source": [
        "# Загрузка и нормализация данных MNIST\n",
        "(x_train, y_train), (x_test, y_test) = mnist.load_data()\n",
        "x_train = x_train / 255.0\n",
        "x_test = x_test / 255.0\n",
        "\n",
        "# Применение one-hot encoding\n",
        "y_test_ohe = to_categorical(y_test, 10)\n",
        "y_train_ohe = to_categorical(y_train, 10)\n",
        "y_train_ohe.shape"
      ],
      "metadata": {
        "id": "p6SUnaDC7ogF",
        "colab": {
          "base_uri": "https://localhost:8080/"
        },
        "outputId": "4bbdbd3e-fc84-4aea-e6d4-6177113afefb"
      },
      "execution_count": null,
      "outputs": [
        {
          "output_type": "stream",
          "name": "stdout",
          "text": [
            "Downloading data from https://storage.googleapis.com/tensorflow/tf-keras-datasets/mnist.npz\n",
            "11490434/11490434 [==============================] - 0s 0us/step\n"
          ]
        },
        {
          "output_type": "execute_result",
          "data": {
            "text/plain": [
              "(60000, 10)"
            ]
          },
          "metadata": {},
          "execution_count": 3
        }
      ]
    },
    {
      "cell_type": "code",
      "source": [
        "# Загрузка данных для уровня сложности 0\n",
        "x_data_level_0 = np.load('/content/drive/MyDrive/all_difficulty_data_mnist/x_data_difficult_level_0.npy')\n",
        "y_data_level_0 = np.load('/content/drive/MyDrive/all_difficulty_data_mnist/y_data_difficult_level_0.npy')\n",
        "\n",
        "# Загрузка данных для уровня сложности 6\n",
        "x_data_level_6 = np.load('/content/drive/MyDrive/all_difficulty_data_mnist/x_data_difficult_level_6.npy')\n",
        "y_data_level_6 = np.load('/content/drive/MyDrive/all_difficulty_data_mnist/y_data_difficult_level_6.npy')\n"
      ],
      "metadata": {
        "id": "9MoPMuvofpYT"
      },
      "execution_count": null,
      "outputs": []
    },
    {
      "cell_type": "code",
      "source": [
        "# Вывод 6 изображений для уровня сложности 0\n",
        "plt.figure(figsize=(12, 4))\n",
        "for i in range(6):\n",
        "    plt.subplot(2, 6, i+1)\n",
        "    plt.imshow(x_data_level_0[i].reshape(28, 28), cmap='gray')\n",
        "    plt.title(f\"Лейбл: {y_data_level_0[i]}\")\n",
        "    plt.axis('off')\n",
        "\n",
        "# Вывод 6 изображений для уровня сложности 6\n",
        "for i in range(6):\n",
        "    plt.subplot(2, 6, i+7)\n",
        "    plt.imshow(x_data_level_6[i].reshape(28, 28), cmap='gray')\n",
        "    plt.title(f\"Лейбл: {y_data_level_6[i]}\")\n",
        "    plt.axis('off')\n",
        "    plt.suptitle('Хорошо различимые и неразличимые изображения', y=1)\n",
        "\n",
        "plt.tight_layout()\n",
        "plt.show()\n"
      ],
      "metadata": {
        "colab": {
          "base_uri": "https://localhost:8080/",
          "height": 421
        },
        "id": "kmznhBJnei6P",
        "outputId": "eeefbf5c-43cc-4cd3-f328-61f682547e73"
      },
      "execution_count": null,
      "outputs": [
        {
          "output_type": "display_data",
          "data": {
            "text/plain": [
              "<Figure size 1200x400 with 12 Axes>"
            ],
            "image/png": "[encoded data removed]"
          },
          "metadata": {}
        }
      ]
    },
    {
      "cell_type": "code",
      "source": [
        "# Функция для деформации изображения, как определено ранее\n",
        "def deform_image_optimized(image, A, B, M=28, NP=5):\n",
        "    C = M / (NP + 1.0)\n",
        "    XN, YN = np.zeros(M), np.zeros(M)\n",
        "    DX, DY = np.linspace(0, M-1, M), np.linspace(0, M-1, M)\n",
        "\n",
        "    for j in range(NP):\n",
        "        TXN = (j + 0.5 - np.random.random()) * C\n",
        "        TYN = (j + 0.5 - np.random.random()) * C\n",
        "        TDX = (j + 0.5 - np.random.random()) * C\n",
        "        TDY = (j + 0.5 - np.random.random()) * C\n",
        "        AXN = B * (1.0 - 2.0 * np.random.random())\n",
        "        AYN = B * (1.0 - 2.0 * np.random.random())\n",
        "        ADX = A * (1.0 - 2.0 * np.random.random())\n",
        "        ADY = A * (1.0 - 2.0 * np.random.random())\n",
        "        PXN = (0.1 + 0.9 * np.random.random()) * C\n",
        "        PYN = (0.1 + 0.9 * np.random.random()) * C\n",
        "        PDX = (0.1 + 0.9 * np.random.random()) * C\n",
        "        PDY = (0.1 + 0.9 * np.random.random()) * C\n",
        "\n",
        "        DX += ADX * np.exp(-((DX - TDX) / PDX)**2)\n",
        "        DY += ADY * np.exp(-((DY - TDY) / PDY)**2)\n",
        "        XN += AXN * np.exp(-((DX - TXN) / PXN)**2)\n",
        "        YN += AYN * np.exp(-((DY - TYN) / PYN)**2)\n",
        "\n",
        "    deformed_image = np.zeros((M, M))\n",
        "    for j in range(M):\n",
        "        for i in range(M):\n",
        "            x_index = int(DX[i] + XN[j])\n",
        "            y_index = int(DY[j] + YN[i])\n",
        "            if 0 <= x_index < M and 0 <= y_index < M:\n",
        "                deformed_image[j, i] = image[y_index, x_index] if y_index < image.shape[0] and x_index < image.shape[1] else 0\n",
        "\n",
        "    return deformed_image"
      ],
      "metadata": {
        "id": "IDDXpVxmATsD"
      },
      "execution_count": null,
      "outputs": []
    },
    {
      "cell_type": "code",
      "source": [
        "# Параметры деформации для разных уровней сложности\n",
        "# deform_params = {\n",
        "#     \"1\": (0.2, 1.0),\n",
        "#     \"2\": (0.4, 2.0),\n",
        "#     \"3\": (0.6, 3.0),\n",
        "#     \"4\": (0.8, 4.0),\n",
        "#     \"5\": (1, 5.0),\n",
        "# }\n",
        "\n",
        "deform_params = {\n",
        "    \"1\": (0.45, 2.8),\n",
        "    \"2\": (0.6, 3.8),\n",
        "    \"3\": (0.75, 4.9),\n",
        "    \"4\": (0.9, 5.9),\n",
        "    \"5\": (2, 8),\n",
        "}"
      ],
      "metadata": {
        "id": "faAey5shAUeY"
      },
      "execution_count": 70,
      "outputs": []
    },
    {
      "cell_type": "code",
      "source": [
        "# Создание каллибровочной сети\n",
        "model2 = Sequential([\n",
        "    Conv2D(64, kernel_size=(3, 3), activation='relu', input_shape=(28, 28, 1)),\n",
        "    MaxPooling2D(pool_size=(2, 2)),\n",
        "    Conv2D(128, (3, 3), activation='relu'),\n",
        "    MaxPooling2D(pool_size=(2, 2)),\n",
        "    Dropout(0.25),\n",
        "    Flatten(),\n",
        "    Dense(256, activation='relu'),\n",
        "    Dropout(0.5),\n",
        "    Dense(10, activation='softmax')\n",
        "])\n",
        "\n",
        "model2.compile(optimizer='adam', loss='categorical_crossentropy', metrics=['accuracy'])\n",
        "\n",
        "# Обучение model2 на тренировочных данных\n",
        "model2.fit(x_train, y_train_ohe, epochs=10, batch_size=128, validation_split=0.1, verbose=1)\n"
      ],
      "metadata": {
        "colab": {
          "base_uri": "https://localhost:8080/",
          "height": 567
        },
        "id": "9c3hP--Ag5DI",
        "outputId": "d0e599cc-f1a0-465b-9f8b-2b7b469a39c0"
      },
      "execution_count": 10,
      "outputs": [
        {
          "output_type": "stream",
          "name": "stdout",
          "text": [
            "Epoch 1/10\n",
            "422/422 [==============================] - 10s 10ms/step - loss: 0.2234 - accuracy: 0.9314 - val_loss: 0.0443 - val_accuracy: 0.9883\n",
            "Epoch 2/10\n",
            "422/422 [==============================] - 3s 8ms/step - loss: 0.0694 - accuracy: 0.9782 - val_loss: 0.0358 - val_accuracy: 0.9903\n",
            "Epoch 3/10\n",
            "422/422 [==============================] - 3s 7ms/step - loss: 0.0513 - accuracy: 0.9835 - val_loss: 0.0365 - val_accuracy: 0.9913\n",
            "Epoch 4/10\n",
            "422/422 [==============================] - 3s 7ms/step - loss: 0.0435 - accuracy: 0.9869 - val_loss: 0.0290 - val_accuracy: 0.9930\n",
            "Epoch 5/10\n",
            "422/422 [==============================] - 3s 8ms/step - loss: 0.0366 - accuracy: 0.9886 - val_loss: 0.0356 - val_accuracy: 0.9902\n",
            "Epoch 6/10\n",
            "422/422 [==============================] - 3s 8ms/step - loss: 0.0304 - accuracy: 0.9906 - val_loss: 0.0288 - val_accuracy: 0.9920\n",
            "Epoch 7/10\n",
            "422/422 [==============================] - 4s 8ms/step - loss: 0.0277 - accuracy: 0.9911 - val_loss: 0.0312 - val_accuracy: 0.9923\n",
            "Epoch 8/10\n",
            "422/422 [==============================] - 4s 9ms/step - loss: 0.0248 - accuracy: 0.9917 - val_loss: 0.0319 - val_accuracy: 0.9923\n",
            "Epoch 9/10\n",
            "422/422 [==============================] - 4s 11ms/step - loss: 0.0214 - accuracy: 0.9931 - val_loss: 0.0304 - val_accuracy: 0.9925\n",
            "Epoch 10/10\n",
            "422/422 [==============================] - 3s 8ms/step - loss: 0.0185 - accuracy: 0.9937 - val_loss: 0.0286 - val_accuracy: 0.9932\n"
          ]
        },
        {
          "output_type": "error",
          "ename": "NameError",
          "evalue": "name 'x_test_reshaped' is not defined",
          "traceback": [
            "\u001b[0;31m---------------------------------------------------------------------------\u001b[0m",
            "\u001b[0;31mNameError\u001b[0m                                 Traceback (most recent call last)",
            "\u001b[0;32m<ipython-input-10-d2aca2ac7879>\u001b[0m in \u001b[0;36m<cell line: 18>\u001b[0;34m()\u001b[0m\n\u001b[1;32m     16\u001b[0m \u001b[0mmodel2\u001b[0m\u001b[0;34m.\u001b[0m\u001b[0mfit\u001b[0m\u001b[0;34m(\u001b[0m\u001b[0mx_train\u001b[0m\u001b[0;34m,\u001b[0m \u001b[0my_train_ohe\u001b[0m\u001b[0;34m,\u001b[0m \u001b[0mepochs\u001b[0m\u001b[0;34m=\u001b[0m\u001b[0;36m10\u001b[0m\u001b[0;34m,\u001b[0m \u001b[0mbatch_size\u001b[0m\u001b[0;34m=\u001b[0m\u001b[0;36m128\u001b[0m\u001b[0;34m,\u001b[0m \u001b[0mvalidation_split\u001b[0m\u001b[0;34m=\u001b[0m\u001b[0;36m0.1\u001b[0m\u001b[0;34m,\u001b[0m \u001b[0mverbose\u001b[0m\u001b[0;34m=\u001b[0m\u001b[0;36m1\u001b[0m\u001b[0;34m)\u001b[0m\u001b[0;34m\u001b[0m\u001b[0;34m\u001b[0m\u001b[0m\n\u001b[1;32m     17\u001b[0m \u001b[0;31m# Оценка точности на тестовом наборе\u001b[0m\u001b[0;34m\u001b[0m\u001b[0;34m\u001b[0m\u001b[0m\n\u001b[0;32m---> 18\u001b[0;31m \u001b[0mloss\u001b[0m\u001b[0;34m,\u001b[0m \u001b[0maccuracy\u001b[0m \u001b[0;34m=\u001b[0m \u001b[0mmodel2\u001b[0m\u001b[0;34m.\u001b[0m\u001b[0mevaluate\u001b[0m\u001b[0;34m(\u001b[0m\u001b[0mx_test_reshaped\u001b[0m\u001b[0;34m,\u001b[0m \u001b[0my_test_ohe\u001b[0m\u001b[0;34m,\u001b[0m \u001b[0mverbose\u001b[0m\u001b[0;34m=\u001b[0m\u001b[0;36m0\u001b[0m\u001b[0;34m)\u001b[0m\u001b[0;34m\u001b[0m\u001b[0;34m\u001b[0m\u001b[0m\n\u001b[0m\u001b[1;32m     19\u001b[0m \u001b[0mprint\u001b[0m\u001b[0;34m(\u001b[0m\u001b[0;34mf\"Точность на тестовых данных: {accuracy*100:.2f}%\"\u001b[0m\u001b[0;34m)\u001b[0m\u001b[0;34m\u001b[0m\u001b[0;34m\u001b[0m\u001b[0m\n",
            "\u001b[0;31mNameError\u001b[0m: name 'x_test_reshaped' is not defined"
          ]
        }
      ]
    },
    {
      "cell_type": "code",
      "source": [
        "# Сначала необходимо преобразовать x_test к формату, совместимому с моделью\n",
        "x_test_reshaped = x_test.reshape(-1, 28, 28, 1)\n",
        "\n",
        "# Оценка точности на тестовом наборе\n",
        "loss, accuracy = model2.evaluate(x_test_reshaped, y_test_ohe, verbose=0)\n",
        "print(f\"Точность на тестовых данных: {accuracy*100:.2f}%\")"
      ],
      "metadata": {
        "colab": {
          "base_uri": "https://localhost:8080/"
        },
        "id": "K0fdMiTchDJy",
        "outputId": "7b8e0a4b-cf38-48a2-80b0-9833a06e7aff"
      },
      "execution_count": 11,
      "outputs": [
        {
          "output_type": "stream",
          "name": "stdout",
          "text": [
            "Точность на тестовых данных: 99.39%\n"
          ]
        }
      ]
    },
    {
      "cell_type": "code",
      "source": [
        "def test_and_show_deformed_images(x_test, y_test_ohe, model, level, deform_params):\n",
        "    \"\"\"\n",
        "    Деформирует тестовые данные на заданном уровне, отображает первые 6 деформированных изображений,\n",
        "    и оценивает модель на этих данных.\n",
        "\n",
        "    Parameters:\n",
        "    - x_test: np.array, исходные тестовые данные.\n",
        "    - y_test_ohe: np.array, метки классов в формате one-hot encoding.\n",
        "    - model: обученная модель Keras.\n",
        "    - level: str, уровень деформации, ключ в словаре deform_params.\n",
        "    - deform_params: dict, словарь с параметрами деформации для каждого уровня.\n",
        "    \"\"\"\n",
        "\n",
        "    if level not in deform_params:\n",
        "        print(f\"Уровень деформации {level} не найден.\")\n",
        "        return\n",
        "\n",
        "    # Извлечение параметров деформации для заданного уровня\n",
        "    A, B = deform_params[level]\n",
        "\n",
        "    # Создание деформированных данных для заданного уровня\n",
        "    deformed_images = np.array([deform_image_optimized(image.reshape(28, 28), A, B) for image in x_test]).reshape(-1, 28, 28, 1)\n",
        "\n",
        "    # Оценка точности модели на деформированных данных\n",
        "    loss, accuracy = model.evaluate(deformed_images, y_test_ohe, verbose=0)\n",
        "    print(f\"Точность на уровне деформации {level}: {accuracy*100:.2f}%\")\n",
        "\n",
        "    # Вывод первых 6 деформированных изображений\n",
        "    plt.figure(figsize=(10, 2))\n",
        "    for i in range(6):\n",
        "        plt.subplot(1, 6, i+1)\n",
        "        plt.imshow(deformed_images[i].reshape(28, 28), cmap='gray')\n",
        "        plt.title(f\"Лейбл: {y_test[i]}\")\n",
        "        plt.axis('off')\n",
        "    plt.suptitle(f'Первые 6 деформированных изображений на уровне {level}')\n",
        "    plt.show()"
      ],
      "metadata": {
        "id": "pdMBuxgOimMM"
      },
      "execution_count": 25,
      "outputs": []
    },
    {
      "cell_type": "code",
      "source": [
        "# Пример использования функции для уровня деформации '3'\n",
        "test_and_show_deformed_images(x_test_reshaped, y_test_ohe, model2, '5', deform_params)"
      ],
      "metadata": {
        "colab": {
          "base_uri": "https://localhost:8080/",
          "height": 207
        },
        "id": "bkzvZ_UJisOE",
        "outputId": "488dc0fa-def7-403c-8487-1c209cfa56ec"
      },
      "execution_count": 69,
      "outputs": [
        {
          "output_type": "stream",
          "name": "stdout",
          "text": [
            "Точность на уровне деформации 5: 27.07%\n"
          ]
        },
        {
          "output_type": "display_data",
          "data": {
            "text/plain": [
              "<Figure size 1000x200 with 6 Axes>"
            ],
            "image/png": "[encoded data removed]"
          },
          "metadata": {}
        }
      ]
    },
    {
      "cell_type": "code",
      "source": [
        "def generate_deformed_data(x_data, deform_params):\n",
        "    # Создание словаря для хранения деформированных данных по уровням сложности\n",
        "    deformed_data = {}\n",
        "    for level, params in deform_params.items():\n",
        "        A, B = params\n",
        "        # Деформация всех тестовых изображений согласно текущим параметрам деформации\n",
        "        deformed_images = np.array([deform_image_optimized(image.reshape(28, 28), A, B) for image in x_data]).reshape(-1, 28, 28, 1)\n",
        "        deformed_data[level] = deformed_images\n",
        "    return deformed_data\n",
        "\n",
        "# Генерация деформированных тестовых данных для каждого уровня сложности\n",
        "deformed_test_data = generate_deformed_data(x_test, deform_params)\n"
      ],
      "metadata": {
        "id": "Uq65mXathOlq"
      },
      "execution_count": 71,
      "outputs": []
    },
    {
      "cell_type": "code",
      "source": [
        "for level, data in deformed_test_data.items():\n",
        "    # Оценка точности модели на деформированных данных для текущего уровня сложности\n",
        "    loss, accuracy = model2.evaluate(data, y_test_ohe, verbose=0)\n",
        "    print(f\"Точность на уровне деформации {level}: {accuracy*100:.2f}%\")\n"
      ],
      "metadata": {
        "colab": {
          "base_uri": "https://localhost:8080/"
        },
        "id": "CVP8MMyEhuQE",
        "outputId": "dbda1649-6a2c-4eac-a1a3-e30dd9a899b1"
      },
      "execution_count": 72,
      "outputs": [
        {
          "output_type": "stream",
          "name": "stdout",
          "text": [
            "Точность на уровне деформации 1: 86.98%\n",
            "Точность на уровне деформации 2: 71.99%\n",
            "Точность на уровне деформации 3: 54.40%\n",
            "Точность на уровне деформации 4: 42.11%\n",
            "Точность на уровне деформации 5: 26.82%\n"
          ]
        }
      ]
    }
  ]
}