{
  "nbformat": 4,
  "nbformat_minor": 0,
  "metadata": {
    "colab": {
      "provenance": [],
      "gpuType": "T4",
      "authorship_tag": "ABX9TyPGHfO8EZqxszhOF9roqhy7",
      "include_colab_link": true
    },
    "kernelspec": {
      "name": "python3",
      "display_name": "Python 3"
    },
    "language_info": {
      "name": "python"
    },
    "accelerator": "GPU"
  },
  "cells": [
    {
      "cell_type": "markdown",
      "metadata": {
        "id": "view-in-github",
        "colab_type": "text"
      },
      "source": [
        "<a href=\"https://colab.research.google.com/github/BorisLoveDev/agents-of-uniform-difficulty/blob/main/get_answer_table.ipynb\" target=\"_parent\"><img src=\"https://colab.research.google.com/assets/colab-badge.svg\" alt=\"Open In Colab\"/></a>"
      ]
    },
    {
      "cell_type": "code",
      "execution_count": 8,
      "metadata": {
        "id": "ky3xlrt0UtQC"
      },
      "outputs": [],
      "source": [
        "import numpy as np\n",
        "from tensorflow.keras.models import load_model\n",
        "import pandas as pd\n",
        "from tensorflow.keras.datasets import mnist\n"
      ]
    },
    {
      "cell_type": "code",
      "source": [
        "from google.colab import drive\n",
        "drive.mount('/content/drive')"
      ],
      "metadata": {
        "colab": {
          "base_uri": "https://localhost:8080/"
        },
        "id": "c0bIoDJwVCtF",
        "outputId": "dd813ab3-1406-424d-e3a2-e642aa31eb28"
      },
      "execution_count": 2,
      "outputs": [
        {
          "output_type": "stream",
          "name": "stdout",
          "text": [
            "Drive already mounted at /content/drive; to attempt to forcibly remount, call drive.mount(\"/content/drive\", force_remount=True).\n"
          ]
        }
      ]
    },
    {
      "cell_type": "code",
      "source": [
        "# Загрузка тестового набора данных MNIST\n",
        "(_, _), (x_test_mnist, y_test_mnist) = mnist.load_data()\n",
        "\n",
        "# Нормализация данных и добавление измерения канала\n",
        "x_test_mnist = x_test_mnist / 255.0\n",
        "x_test_mnist = np.expand_dims(x_test_mnist, axis=-1)"
      ],
      "metadata": {
        "id": "EWw_2UjzWX-g"
      },
      "execution_count": 9,
      "outputs": []
    },
    {
      "cell_type": "code",
      "source": [
        "# Загрузка скомбинированных данных\n",
        "x_combined = np.load('/content/drive/MyDrive/all_difficulty_data_mnist/x_combined_difficulty.npy')\n",
        "y_combined = np.load('/content/drive/MyDrive/all_difficulty_data_mnist/y_combined_difficulty.npy')\n",
        "y_combined_ohe = np.eye(11)[y_combined]  # Получаем one-hot encoding для 'не знаю' класса\n"
      ],
      "metadata": {
        "id": "2dEYmRetVDc8"
      },
      "execution_count": 3,
      "outputs": []
    },
    {
      "cell_type": "code",
      "source": [
        "# Загрузка всех 10 моделей\n",
        "models = []\n",
        "for i in range(1, 11):\n",
        "    model_path = f'/content/drive/MyDrive/all_difficulty_data_mnist/weights_100rcnn_normal_train_data/model_{i}_best.keras'\n",
        "    model = load_model(model_path)\n",
        "    models.append(model)"
      ],
      "metadata": {
        "id": "nwljf_pBVLB_"
      },
      "execution_count": 4,
      "outputs": []
    },
    {
      "cell_type": "code",
      "source": [
        "def test_model_on_mnist_data(model, x_data, y_data):\n",
        "    predictions = model.predict(x_data).argmax(axis=1)\n",
        "    correct = (predictions == y_data).sum()\n",
        "    total = x_data.shape[0]\n",
        "    accuracy = correct / total\n",
        "    return accuracy\n",
        "\n",
        "# Тестирование каждой модели на MNIST и вывод результатов\n",
        "for i, model in enumerate(models, 1):\n",
        "    accuracy = test_model_on_mnist_data(model, x_test_mnist, y_test_mnist)\n",
        "    print(f\"Model {i} accuracy on MNIST test data: {accuracy:.2%}\")\n"
      ],
      "metadata": {
        "colab": {
          "base_uri": "https://localhost:8080/"
        },
        "id": "F2nCPN4MWczX",
        "outputId": "0dde105a-3a2d-4847-eaaf-eecf15c843f9"
      },
      "execution_count": 10,
      "outputs": [
        {
          "output_type": "stream",
          "name": "stdout",
          "text": [
            "313/313 [==============================] - 1s 2ms/step\n",
            "Model 1 accuracy on MNIST test data: 98.60%\n",
            "313/313 [==============================] - 1s 3ms/step\n",
            "Model 2 accuracy on MNIST test data: 95.87%\n",
            "313/313 [==============================] - 1s 2ms/step\n",
            "Model 3 accuracy on MNIST test data: 97.26%\n",
            "313/313 [==============================] - 1s 3ms/step\n",
            "Model 4 accuracy on MNIST test data: 98.91%\n",
            "313/313 [==============================] - 1s 3ms/step\n",
            "Model 5 accuracy on MNIST test data: 97.74%\n",
            "313/313 [==============================] - 1s 3ms/step\n",
            "Model 6 accuracy on MNIST test data: 90.49%\n",
            "313/313 [==============================] - 1s 3ms/step\n",
            "Model 7 accuracy on MNIST test data: 96.43%\n",
            "313/313 [==============================] - 1s 2ms/step\n",
            "Model 8 accuracy on MNIST test data: 93.38%\n",
            "313/313 [==============================] - 1s 2ms/step\n",
            "Model 9 accuracy on MNIST test data: 96.70%\n",
            "313/313 [==============================] - 1s 2ms/step\n",
            "Model 10 accuracy on MNIST test data: 95.40%\n"
          ]
        }
      ]
    },
    {
      "cell_type": "code",
      "source": [
        "def test_model_on_combined_data(model, x_data, y_data):\n",
        "    predictions = model.predict(x_data).argmax(axis=1)\n",
        "    results = np.where(predictions == y_data, 1, np.where(predictions == 10, 0, -1))\n",
        "    return results\n",
        "\n",
        "# Тестирование всех моделей и сохранение результатов\n",
        "combined_results = np.array([test_model_on_combined_data(model, x_combined, y_combined) for model in models])\n"
      ],
      "metadata": {
        "colab": {
          "base_uri": "https://localhost:8080/"
        },
        "id": "05x7jZJoVNJ5",
        "outputId": "081e7ec9-e93d-4c99-9b3e-a23e95f54b68"
      },
      "execution_count": 11,
      "outputs": [
        {
          "output_type": "stream",
          "name": "stdout",
          "text": [
            "329/329 [==============================] - 1s 2ms/step\n",
            "329/329 [==============================] - 1s 2ms/step\n",
            "329/329 [==============================] - 1s 3ms/step\n",
            "329/329 [==============================] - 1s 3ms/step\n",
            "329/329 [==============================] - 1s 2ms/step\n",
            "329/329 [==============================] - 1s 2ms/step\n",
            "329/329 [==============================] - 1s 2ms/step\n",
            "329/329 [==============================] - 1s 2ms/step\n",
            "329/329 [==============================] - 1s 2ms/step\n",
            "329/329 [==============================] - 1s 2ms/step\n"
          ]
        }
      ]
    },
    {
      "cell_type": "code",
      "source": [
        "# Преобразование результатов в DataFrame и сохранение в CSV\n",
        "combined_df = pd.DataFrame(combined_results)\n",
        "combined_df.to_csv('/content/drive/MyDrive/all_difficulty_data_mnist/combined_test_results.csv', index=False, header=False)\n",
        "\n",
        "print(\"Результаты тестирования на скомбинированном наборе данных сохранены.\")\n"
      ],
      "metadata": {
        "colab": {
          "base_uri": "https://localhost:8080/"
        },
        "id": "ut1EThyDWJSt",
        "outputId": "ac9db59b-e429-47e1-b4ae-21767a1569b3"
      },
      "execution_count": 12,
      "outputs": [
        {
          "output_type": "stream",
          "name": "stdout",
          "text": [
            "Результаты тестирования на скомбинированном наборе данных сохранены.\n"
          ]
        }
      ]
    },
    {
      "cell_type": "code",
      "source": [
        "# Показываем последние строки DataFrame\n",
        "print(combined_df.tail())\n",
        "\n",
        "# Сохраняем DataFrame в CSV без индексов и заголовков\n",
        "combined_df.to_csv('/content/drive/MyDrive/all_difficulty_data_mnist/combined_test_results.csv', index=False, header=False)\n",
        "\n",
        "print(\"Результаты тестирования на скомбинированном наборе данных сохранены.\")\n"
      ],
      "metadata": {
        "colab": {
          "base_uri": "https://localhost:8080/"
        },
        "id": "SpnUxsXvW_a7",
        "outputId": "e9d12948-0e76-4ec0-aa3b-f74a1283c40b"
      },
      "execution_count": 13,
      "outputs": [
        {
          "output_type": "stream",
          "name": "stdout",
          "text": [
            "   0      1      2      3      4      5      6      7      8      9      ...  \\\n",
            "5      1      1      1      1      1      1      1      1      1      1  ...   \n",
            "6      1      1      1      1      1      1      1      1      1      1  ...   \n",
            "7      1      1      1      1      1      1      1      1      1      1  ...   \n",
            "8      1      1      1      1      1      1      1      1      1      1  ...   \n",
            "9      1      1      1      1      1      1      1      1      1      1  ...   \n",
            "\n",
            "   10490  10491  10492  10493  10494  10495  10496  10497  10498  10499  \n",
            "5      0      0      0      0      0      0      0      0      0      0  \n",
            "6      0      0      0      0      0      0      0      0      0      0  \n",
            "7      0      0      0      0      0      0      0      0      0      0  \n",
            "8      0      0      0      0      0      0      0      0      0      0  \n",
            "9      0      0      0      0      0      0      0      0      0      0  \n",
            "\n",
            "[5 rows x 10500 columns]\n",
            "Результаты тестирования на скомбинированном наборе данных сохранены.\n"
          ]
        }
      ]
    }
  ]
}