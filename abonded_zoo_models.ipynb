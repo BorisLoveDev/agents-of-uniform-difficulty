{
  "nbformat": 4,
  "nbformat_minor": 0,
  "metadata": {
    "colab": {
      "provenance": [],
      "gpuType": "T4",
      "include_colab_link": true
    },
    "kernelspec": {
      "name": "python3",
      "display_name": "Python 3"
    },
    "language_info": {
      "name": "python"
    },
    "accelerator": "GPU"
  },
  "cells": [
    {
      "cell_type": "markdown",
      "metadata": {
        "id": "view-in-github",
        "colab_type": "text"
      },
      "source": [
        "<a href=\"https://colab.research.google.com/github/BorisLoveDev/agents-of-uniform-difficulty/blob/main/abonded_zoo_models.ipynb\" target=\"_parent\"><img src=\"https://colab.research.google.com/assets/colab-badge.svg\" alt=\"Open In Colab\"/></a>"
      ]
    },
    {
      "cell_type": "code",
      "source": [
        "import numpy as np\n",
        "from tensorflow.keras.layers import Conv2D, MaxPooling2D, Dropout\n",
        "from tensorflow.keras.datasets import mnist\n",
        "from tensorflow.keras.utils import to_categorical\n",
        "from tensorflow.keras.models import Sequential\n",
        "from tensorflow.keras.layers import Dense, Flatten\n",
        "from tensorflow.keras.optimizers import Adam\n",
        "from sklearn.model_selection import train_test_split\n",
        "import matplotlib.pyplot as plt\n",
        "import os\n",
        "import random\n",
        "np.random.seed(42)\n",
        "random.seed(42)"
      ],
      "metadata": {
        "id": "-LESJJ9u7bjU"
      },
      "execution_count": 18,
      "outputs": []
    },
    {
      "cell_type": "code",
      "source": [
        "from google.colab import drive\n",
        "# Подключение Google Drive\n",
        "drive.mount('/content/drive')"
      ],
      "metadata": {
        "id": "kNm_F8qC7dug",
        "colab": {
          "base_uri": "https://localhost:8080/"
        },
        "outputId": "59100c8c-2a3e-4eb6-dade-87a88d1a07a8"
      },
      "execution_count": 2,
      "outputs": [
        {
          "output_type": "stream",
          "name": "stdout",
          "text": [
            "Mounted at /content/drive\n"
          ]
        }
      ]
    },
    {
      "cell_type": "code",
      "source": [
        "# Загрузка и нормализация данных MNIST\n",
        "(x_train, y_train), (x_test, y_test) = mnist.load_data()\n",
        "x_train = x_train / 255.0\n",
        "x_test = x_test / 255.0\n",
        "\n",
        "# Применение one-hot encoding\n",
        "y_test_ohe = to_categorical(y_test, 10)\n",
        "y_train_ohe = to_categorical(y_train, 10)\n",
        "y_train_ohe.shape"
      ],
      "metadata": {
        "id": "p6SUnaDC7ogF",
        "colab": {
          "base_uri": "https://localhost:8080/"
        },
        "outputId": "649b448a-18dd-44dc-db85-a81f8c19a631"
      },
      "execution_count": 3,
      "outputs": [
        {
          "output_type": "stream",
          "name": "stdout",
          "text": [
            "Downloading data from https://storage.googleapis.com/tensorflow/tf-keras-datasets/mnist.npz\n",
            "11490434/11490434 [==============================] - 0s 0us/step\n"
          ]
        },
        {
          "output_type": "execute_result",
          "data": {
            "text/plain": [
              "(60000, 10)"
            ]
          },
          "metadata": {},
          "execution_count": 3
        }
      ]
    },
    {
      "cell_type": "code",
      "source": [
        "# Загрузка данных для уровня сложности 0\n",
        "x_data_level_0 = np.load('/content/drive/MyDrive/all_difficulty_data_mnist/x_data_difficult_level_0.npy')\n",
        "y_data_level_0 = np.load('/content/drive/MyDrive/all_difficulty_data_mnist/y_data_difficult_level_0.npy')\n",
        "\n",
        "# Загрузка данных для уровня сложности 6\n",
        "x_data_level_6 = np.load('/content/drive/MyDrive/all_difficulty_data_mnist/x_data_difficult_level_6.npy')\n",
        "y_data_level_6 = np.load('/content/drive/MyDrive/all_difficulty_data_mnist/y_data_difficult_level_6.npy')\n"
      ],
      "metadata": {
        "id": "9MoPMuvofpYT"
      },
      "execution_count": 4,
      "outputs": []
    },
    {
      "cell_type": "code",
      "source": [
        "# Вывод 6 изображений для уровня сложности 0\n",
        "plt.figure(figsize=(12, 4))\n",
        "for i in range(6):\n",
        "    plt.subplot(2, 6, i+1)\n",
        "    plt.imshow(x_data_level_0[i].reshape(28, 28), cmap='gray')\n",
        "    plt.title(f\"Лейбл: {y_data_level_0[i]}\")\n",
        "    plt.axis('off')\n",
        "\n",
        "# Вывод 6 изображений для уровня сложности 6\n",
        "for i in range(6):\n",
        "    plt.subplot(2, 6, i+7)\n",
        "    plt.imshow(x_data_level_6[i].reshape(28, 28), cmap='gray')\n",
        "    plt.title(f\"Лейбл: {y_data_level_6[i]}\")\n",
        "    plt.axis('off')\n",
        "    plt.suptitle('Хорошо различимые и неразличимые изображения', y=1)\n",
        "\n",
        "plt.tight_layout()\n",
        "plt.show()\n"
      ],
      "metadata": {
        "colab": {
          "base_uri": "https://localhost:8080/",
          "height": 421
        },
        "id": "kmznhBJnei6P",
        "outputId": "44f3b0ae-8b46-4167-e56d-96144982bfeb"
      },
      "execution_count": 5,
      "outputs": [
        {
          "output_type": "display_data",
          "data": {
            "text/plain": [
              "<Figure size 1200x400 with 12 Axes>"
            ],
            "image/png": "[encoded data removed]"
          },
          "metadata": {}
        }
      ]
    },
    {
      "cell_type": "code",
      "source": [
        "# Функция для деформации изображения, как определено ранее\n",
        "def deform_image_optimized(image, A, B, M=28, NP=5):\n",
        "    C = M / (NP + 1.0)\n",
        "    XN, YN = np.zeros(M), np.zeros(M)\n",
        "    DX, DY = np.linspace(0, M-1, M), np.linspace(0, M-1, M)\n",
        "\n",
        "    for j in range(NP):\n",
        "        TXN = (j + 0.5 - np.random.random()) * C\n",
        "        TYN = (j + 0.5 - np.random.random()) * C\n",
        "        TDX = (j + 0.5 - np.random.random()) * C\n",
        "        TDY = (j + 0.5 - np.random.random()) * C\n",
        "        AXN = B * (1.0 - 2.0 * np.random.random())\n",
        "        AYN = B * (1.0 - 2.0 * np.random.random())\n",
        "        ADX = A * (1.0 - 2.0 * np.random.random())\n",
        "        ADY = A * (1.0 - 2.0 * np.random.random())\n",
        "        PXN = (0.1 + 0.9 * np.random.random()) * C\n",
        "        PYN = (0.1 + 0.9 * np.random.random()) * C\n",
        "        PDX = (0.1 + 0.9 * np.random.random()) * C\n",
        "        PDY = (0.1 + 0.9 * np.random.random()) * C\n",
        "\n",
        "        DX += ADX * np.exp(-((DX - TDX) / PDX)**2)\n",
        "        DY += ADY * np.exp(-((DY - TDY) / PDY)**2)\n",
        "        XN += AXN * np.exp(-((DX - TXN) / PXN)**2)\n",
        "        YN += AYN * np.exp(-((DY - TYN) / PYN)**2)\n",
        "\n",
        "    deformed_image = np.zeros((M, M))\n",
        "    for j in range(M):\n",
        "        for i in range(M):\n",
        "            x_index = int(DX[i] + XN[j])\n",
        "            y_index = int(DY[j] + YN[i])\n",
        "            if 0 <= x_index < M and 0 <= y_index < M:\n",
        "                deformed_image[j, i] = image[y_index, x_index] if y_index < image.shape[0] and x_index < image.shape[1] else 0\n",
        "\n",
        "    return deformed_image"
      ],
      "metadata": {
        "id": "IDDXpVxmATsD"
      },
      "execution_count": 6,
      "outputs": []
    },
    {
      "cell_type": "code",
      "source": [
        "# Параметры деформации для разных уровней сложности\n",
        "# deform_params = {\n",
        "#     \"1\": (0.2, 1.0),\n",
        "#     \"2\": (0.4, 2.0),\n",
        "#     \"3\": (0.6, 3.0),\n",
        "#     \"4\": (0.8, 4.0),\n",
        "#     \"5\": (1, 5.0),\n",
        "# }\n",
        "# c шагом 15%\n",
        "# deform_params = {\n",
        "#     \"1\": (0.45, 2.8),\n",
        "#     \"2\": (0.6, 3.8),\n",
        "#     \"3\": (0.75, 4.9),\n",
        "#     \"4\": (0.9, 5.9),\n",
        "#     \"5\": (2, 8),\n",
        "# }\n",
        "\n",
        "# By V.I.\n",
        "\n",
        "# Диапазоны по вероятностям\n",
        "# 1.000 - 0.996 - идеальные + 0\n",
        "# 0.996-0.963 - очень лёгкие + 1\n",
        "# 0.963-0.742 - лёгкие + 2\n",
        "# 0.740-0.260  - средние + 3\n",
        "# 0.2-0-0.037 - трудные + 4\n",
        "# 0.037-0.004 - очень трудные + 5\n",
        "# 0.004-0.000 - неразличимые 6\n",
        "\n",
        "deform_params = {\n",
        "    \"1\": (0.2, 1.0),\n",
        "    \"2\": (0.4, 3.0),\n",
        "    \"3\": (1, 5.0),\n",
        "    \"4\": (3.5, 9.5),\n",
        "    \"5\": (1, 5.0),\n",
        "}"
      ],
      "metadata": {
        "id": "faAey5shAUeY"
      },
      "execution_count": 7,
      "outputs": []
    },
    {
      "cell_type": "code",
      "source": [
        "# Создание каллибровочной сети\n",
        "model2 = Sequential([\n",
        "    Conv2D(64, kernel_size=(3, 3), activation='relu', input_shape=(28, 28, 1)),\n",
        "    MaxPooling2D(pool_size=(2, 2)),\n",
        "    Conv2D(128, (3, 3), activation='relu'),\n",
        "    MaxPooling2D(pool_size=(2, 2)),\n",
        "    Dropout(0.25),\n",
        "    Flatten(),\n",
        "    Dense(256, activation='relu'),\n",
        "    Dropout(0.5),\n",
        "    Dense(10, activation='softmax')\n",
        "])\n",
        "\n",
        "model2.compile(optimizer='adam', loss='categorical_crossentropy', metrics=['accuracy'])\n",
        "\n",
        "# Обучение model2 на тренировочных данных\n",
        "model2.fit(x_train, y_train_ohe, epochs=10, batch_size=128, validation_split=0.1, verbose=1)\n"
      ],
      "metadata": {
        "colab": {
          "base_uri": "https://localhost:8080/"
        },
        "id": "9c3hP--Ag5DI",
        "outputId": "58aa8ed4-7a70-4e23-ab08-504215584475"
      },
      "execution_count": 8,
      "outputs": [
        {
          "output_type": "stream",
          "name": "stdout",
          "text": [
            "Epoch 1/10\n",
            "422/422 [==============================] - 12s 9ms/step - loss: 0.2235 - accuracy: 0.9308 - val_loss: 0.0558 - val_accuracy: 0.9822\n",
            "Epoch 2/10\n",
            "422/422 [==============================] - 3s 8ms/step - loss: 0.0715 - accuracy: 0.9784 - val_loss: 0.0409 - val_accuracy: 0.9872\n",
            "Epoch 3/10\n",
            "422/422 [==============================] - 4s 9ms/step - loss: 0.0527 - accuracy: 0.9835 - val_loss: 0.0334 - val_accuracy: 0.9898\n",
            "Epoch 4/10\n",
            "422/422 [==============================] - 3s 8ms/step - loss: 0.0420 - accuracy: 0.9870 - val_loss: 0.0284 - val_accuracy: 0.9920\n",
            "Epoch 5/10\n",
            "422/422 [==============================] - 3s 7ms/step - loss: 0.0375 - accuracy: 0.9882 - val_loss: 0.0281 - val_accuracy: 0.9912\n",
            "Epoch 6/10\n",
            "422/422 [==============================] - 3s 8ms/step - loss: 0.0309 - accuracy: 0.9897 - val_loss: 0.0273 - val_accuracy: 0.9917\n",
            "Epoch 7/10\n",
            "422/422 [==============================] - 4s 9ms/step - loss: 0.0290 - accuracy: 0.9911 - val_loss: 0.0317 - val_accuracy: 0.9925\n",
            "Epoch 8/10\n",
            "422/422 [==============================] - 3s 8ms/step - loss: 0.0240 - accuracy: 0.9918 - val_loss: 0.0280 - val_accuracy: 0.9922\n",
            "Epoch 9/10\n",
            "422/422 [==============================] - 3s 8ms/step - loss: 0.0217 - accuracy: 0.9932 - val_loss: 0.0270 - val_accuracy: 0.9932\n",
            "Epoch 10/10\n",
            "422/422 [==============================] - 3s 8ms/step - loss: 0.0201 - accuracy: 0.9936 - val_loss: 0.0347 - val_accuracy: 0.9912\n"
          ]
        },
        {
          "output_type": "execute_result",
          "data": {
            "text/plain": [
              "<keras.src.callbacks.History at 0x7c79942fd960>"
            ]
          },
          "metadata": {},
          "execution_count": 8
        }
      ]
    },
    {
      "cell_type": "code",
      "source": [
        "# Сначала необходимо преобразовать x_test к формату, совместимому с моделью\n",
        "x_test_reshaped = x_test.reshape(-1, 28, 28, 1)\n",
        "\n",
        "# Оценка точности на тестовом наборе\n",
        "loss, accuracy = model2.evaluate(x_test_reshaped, y_test_ohe, verbose=0)\n",
        "print(f\"Точность на тестовых данных: {accuracy*100:.2f}%\")"
      ],
      "metadata": {
        "colab": {
          "base_uri": "https://localhost:8080/"
        },
        "id": "K0fdMiTchDJy",
        "outputId": "f32fe3e0-2f30-4e42-97f0-29ab48c5f066"
      },
      "execution_count": 9,
      "outputs": [
        {
          "output_type": "stream",
          "name": "stdout",
          "text": [
            "Точность на тестовых данных: 99.37%\n"
          ]
        }
      ]
    },
    {
      "cell_type": "code",
      "source": [
        "def test_and_show_deformed_images(x_test, y_test_ohe, model, level, deform_params):\n",
        "    \"\"\"\n",
        "    Деформирует тестовые данные на заданном уровне, отображает первые 6 деформированных изображений,\n",
        "    и оценивает модель на этих данных.\n",
        "\n",
        "    Parameters:\n",
        "    - x_test: np.array, исходные тестовые данные.\n",
        "    - y_test_ohe: np.array, метки классов в формате one-hot encoding.\n",
        "    - model: обученная модель Keras.\n",
        "    - level: str, уровень деформации, ключ в словаре deform_params.\n",
        "    - deform_params: dict, словарь с параметрами деформации для каждого уровня.\n",
        "    \"\"\"\n",
        "\n",
        "    if level not in deform_params:\n",
        "        print(f\"Уровень деформации {level} не найден.\")\n",
        "        return\n",
        "\n",
        "    # Извлечение параметров деформации для заданного уровня\n",
        "    A, B = deform_params[level]\n",
        "\n",
        "    # Создание деформированных данных для заданного уровня\n",
        "    deformed_images = np.array([deform_image_optimized(image.reshape(28, 28), A, B) for image in x_test]).reshape(-1, 28, 28, 1)\n",
        "\n",
        "    # Оценка точности модели на деформированных данных\n",
        "    loss, accuracy = model.evaluate(deformed_images, y_test_ohe, verbose=0)\n",
        "    print(f\"Точность на уровне деформации {level}: {accuracy*100:.2f}%\")\n",
        "\n",
        "    # Вывод первых 6 деформированных изображений\n",
        "    plt.figure(figsize=(10, 2))\n",
        "    for i in range(6):\n",
        "        plt.subplot(1, 6, i+1)\n",
        "        plt.imshow(deformed_images[i].reshape(28, 28), cmap='gray')\n",
        "        plt.title(f\"Лейбл: {y_test[i]}\")\n",
        "        plt.axis('off')\n",
        "    plt.suptitle(f'Первые 6 деформированных изображений на уровне {level}')\n",
        "    plt.show()"
      ],
      "metadata": {
        "id": "pdMBuxgOimMM"
      },
      "execution_count": 10,
      "outputs": []
    },
    {
      "cell_type": "code",
      "source": [
        "# Пример использования функции для уровня деформации\n",
        "test_and_show_deformed_images(x_test_reshaped, y_test_ohe, model2, '4', deform_params)"
      ],
      "metadata": {
        "colab": {
          "base_uri": "https://localhost:8080/",
          "height": 206
        },
        "id": "bkzvZ_UJisOE",
        "outputId": "3890bfca-e930-44ff-98f6-8607336b7fe1"
      },
      "execution_count": 11,
      "outputs": [
        {
          "output_type": "stream",
          "name": "stdout",
          "text": [
            "Точность на уровне деформации 4: 20.74%\n"
          ]
        },
        {
          "output_type": "display_data",
          "data": {
            "text/plain": [
              "<Figure size 1000x200 with 6 Axes>"
            ],
            "image/png": "[encoded data removed]"
          },
          "metadata": {}
        }
      ]
    },
    {
      "cell_type": "code",
      "source": [
        "def generate_deformed_data(x_data, deform_params):\n",
        "    # Создание словаря для хранения деформированных данных по уровням сложности\n",
        "    deformed_data = {}\n",
        "    for level, params in deform_params.items():\n",
        "        A, B = params\n",
        "        # Деформация всех тестовых изображений согласно текущим параметрам деформации\n",
        "        deformed_images = np.array([deform_image_optimized(image.reshape(28, 28), A, B) for image in x_data]).reshape(-1, 28, 28, 1)\n",
        "        deformed_data[level] = deformed_images\n",
        "    return deformed_data\n",
        "\n",
        "# Генерация деформированных тестовых данных для каждого уровня сложности\n",
        "deformed_test_data = generate_deformed_data(x_test, deform_params)\n"
      ],
      "metadata": {
        "id": "Uq65mXathOlq"
      },
      "execution_count": 12,
      "outputs": []
    },
    {
      "cell_type": "code",
      "source": [
        "for level, data in deformed_test_data.items():\n",
        "    # Оценка точности модели на деформированных данных для текущего уровня сложности\n",
        "    loss, accuracy = model2.evaluate(data, y_test_ohe, verbose=0)\n",
        "    print(f\"Точность на уровне деформации {level}: {accuracy*100:.2f}%\")\n"
      ],
      "metadata": {
        "colab": {
          "base_uri": "https://localhost:8080/"
        },
        "id": "CVP8MMyEhuQE",
        "outputId": "912ab1e7-6706-4a1e-cc34-2d01efebdef5"
      },
      "execution_count": 13,
      "outputs": [
        {
          "output_type": "stream",
          "name": "stdout",
          "text": [
            "Точность на уровне деформации 1: 98.36%\n",
            "Точность на уровне деформации 2: 83.68%\n",
            "Точность на уровне деформации 3: 52.48%\n",
            "Точность на уровне деформации 4: 20.60%\n",
            "Точность на уровне деформации 5: 51.97%\n"
          ]
        }
      ]
    },
    {
      "cell_type": "markdown",
      "source": [
        "Получение таблицы ответов для 10 акторов"
      ],
      "metadata": {
        "id": "WbinBMGIMtGo"
      }
    },
    {
      "cell_type": "code",
      "source": [
        "from tensorflow.keras.models import Model\n",
        "from tensorflow.keras.layers import (\n",
        "    Input, Conv2D, MaxPooling2D, Dropout, BatchNormalization,\n",
        "    Flatten, Dense, LSTM, DepthwiseConv2D\n",
        ")\n",
        "import tensorflow as tf\n",
        "from tensorflow.keras.layers import Concatenate\n",
        "from tensorflow.keras.layers import Reshape"
      ],
      "metadata": {
        "id": "Jnzirsc4NiEu"
      },
      "execution_count": 28,
      "outputs": []
    },
    {
      "cell_type": "code",
      "source": [
        "def conv_block(x, filters, kernel_size, pool=True, use_batch_norm=True):\n",
        "    x = Conv2D(filters, kernel_size, activation='relu', padding='same')(x)\n",
        "    if use_batch_norm:\n",
        "        x = BatchNormalization()(x)\n",
        "    if pool:\n",
        "        x = MaxPooling2D((2, 2), padding='same')(x)\n",
        "    return x\n",
        "\n",
        "def dense_block(x, units, activation='relu', use_dropout=False, dropout_rate=0.5):\n",
        "    x = Dense(units, activation=activation)(x)\n",
        "    if use_dropout:\n",
        "        x = Dropout(dropout_rate)(x)\n",
        "    return x\n",
        "\n",
        "def dense_conv_block(x, num_convolutions, growth_rate):\n",
        "    for _ in range(num_convolutions):\n",
        "        # Perform BatchNormalization, ReLU activation, and Convolution within each dense block layer\n",
        "        cb = BatchNormalization()(x)\n",
        "        cb = Conv2D(growth_rate, (3, 3), activation='relu', padding='same')(cb)\n",
        "        x = Concatenate()([x, cb])\n",
        "    return x\n",
        "\n",
        "def transition_layer(x, reduction):\n",
        "    # Perform BatchNormalization, Convolution, and AvgPooling in transition layers\n",
        "    x = BatchNormalization()(x)\n",
        "    x = Conv2D(int(x.shape[-1] * reduction), (1, 1), activation='relu', padding='same')(x)\n",
        "    x = AveragePooling2D((2, 2), strides=(2, 2))(x)\n",
        "    return x\n",
        "\n",
        "def create_model(model_type):\n",
        "    input_layer = Input(shape=(28, 28, 1))\n",
        "    x = input_layer\n",
        "\n",
        "    if model_type == 'random_cnn':\n",
        "        num_conv_layers = random.randint(2, 4)\n",
        "        for i in range(num_conv_layers):\n",
        "            filters = random.randint(16, 128)\n",
        "            kernel_size = random.choice([(3, 3), (5, 5)])\n",
        "            pool = i < num_conv_layers - 1  # Применяем MaxPooling не на последнем слое\n",
        "            x = conv_block(x, filters, kernel_size, pool=pool, use_batch_norm=True)\n",
        "\n",
        "    elif model_type == 'small_cnn':\n",
        "        x = conv_block(x, 32, (3, 3), pool=True)\n",
        "        x = conv_block(x, 64, (3, 3), pool=True)\n",
        "\n",
        "    elif model_type == 'cnn_depthwise':\n",
        "        for _ in range(random.randint(2, 4)):\n",
        "            x = Conv2D(32, (3, 3), activation='relu', padding='same')(x)\n",
        "            x = DepthwiseConv2D((3, 3), activation='relu', padding='same')(x)\n",
        "            x = MaxPooling2D((2, 2), padding='same')(x)\n",
        "            x = Dropout(0.3)(x)\n",
        "\n",
        "    elif model_type == 'random_fc':\n",
        "        x = Flatten()(x)\n",
        "        num_dense_layers = random.randint(1, 3)\n",
        "        for i in range(num_dense_layers):\n",
        "            units = random.randint(64, 256)\n",
        "            x = dense_block(x, units, use_dropout=random.random() < 0.5)\n",
        "\n",
        "    elif model_type == 'fc_batchnorm':\n",
        "        x = Flatten()(x)\n",
        "        x = dense_block(x, 256)\n",
        "        x = BatchNormalization()(x)\n",
        "        x = dense_block(x, 128, use_dropout=True)\n",
        "\n",
        "\n",
        "\n",
        "    elif model_type == 'fc_lstm':\n",
        "        x = Flatten()(x)\n",
        "        x = Dense(256, activation='relu')(x)\n",
        "        # Изменяем форму данных для добавления измерения временных шагов перед LSTM слоем\n",
        "        x = Reshape((256, 1))(x)  # Преобразование в форму (количество временных шагов, количество признаков)\n",
        "        x = LSTM(64)(x)\n",
        "\n",
        "\n",
        "\n",
        "    elif model_type == 'hybrid_cnn_fc':\n",
        "        # Гибридная сверточная и полносвязная сеть\n",
        "        x = conv_block(x, 32, (3, 3), pool=True)\n",
        "        x = conv_block(x, 64, (3, 3), pool=True)\n",
        "        x = Flatten()(x)\n",
        "        x = dense_block(x, 128, use_dropout=True)\n",
        "\n",
        "    elif model_type == 'parallel_cnn_fc':\n",
        "        # Параллельные сверточная и полносвязная ветви\n",
        "        conv_branch = conv_block(input_layer, 32, (3, 3), pool=False)\n",
        "        conv_branch = conv_block(conv_branch, 64, (3, 3), pool=True)\n",
        "        conv_branch = Flatten()(conv_branch)\n",
        "\n",
        "        dense_branch = Flatten()(input_layer)\n",
        "        dense_branch = dense_block(dense_branch, 128)\n",
        "\n",
        "        x = Concatenate()([conv_branch, dense_branch])\n",
        "\n",
        "    elif model_type == 'cnn_rnn':\n",
        "        # Рекуррентная сверточная сеть (CNN-RNN)\n",
        "        x = conv_block(x, 32, (3, 3), pool=True)\n",
        "        x = conv_block(x, 64, (3, 3), pool=True)\n",
        "        x = Flatten()(x)\n",
        "        # Преобразуем x для использования в LSTM\n",
        "        x = Dense(64, activation='relu')(x)  # Подготовка к LSTM\n",
        "        x = LSTM(32)(x)\n",
        "\n",
        "\n",
        "\n",
        "    # Add DenseNet architecture to the create_model function\n",
        "    elif model_type == 'densenet':\n",
        "        growth_rate = 12  # Or another value depending on your design\n",
        "        num_blocks = 3  # Number of dense blocks\n",
        "        num_layers_per_block = 4  # Number of layers in each dense block\n",
        "        reduction = 0.5  # Reduction factor for the transition layers\n",
        "\n",
        "        for block in range(num_blocks):\n",
        "            x = dense_conv_block(x, num_layers_per_block, growth_rate)\n",
        "            if block < num_blocks - 1:  # No transition layer after the last dense block\n",
        "                x = transition_layer(x, reduction)\n",
        "\n",
        "        x = GlobalAveragePooling2D()(x)\n",
        "\n",
        "    x = Flatten()(x)\n",
        "    output = Dense(10, activation='softmax')(x)\n",
        "    model = Model(inputs=input_layer, outputs=output)\n",
        "    return model"
      ],
      "metadata": {
        "id": "LcCfydZROz2s"
      },
      "execution_count": 29,
      "outputs": []
    },
    {
      "cell_type": "code",
      "source": [
        "# Создаем список для хранения моделей\n",
        "models_list = []\n",
        "\n",
        "# Список типов моделей для создания\n",
        "model_types = ['random_cnn', 'small_cnn', 'cnn_depthwise', 'random_fc', 'fc_batchnorm',\n",
        "               'fc_lstm', 'hybrid_cnn_fc', 'parallel_cnn_fc', 'cnn_rnn', 'densenet']\n",
        "\n",
        "# Создание и компиляция моделей\n",
        "for model_type in model_types:\n",
        "    model = create_model(model_type)\n",
        "    model.compile(optimizer='adam', loss='categorical_crossentropy', metrics=['accuracy'])\n",
        "    models_list.append(model)\n",
        "\n",
        "# Вывод сводки для каждой модели\n",
        "for model in models_list:\n",
        "    model.summary()\n"
      ],
      "metadata": {
        "colab": {
          "base_uri": "https://localhost:8080/",
          "height": 356
        },
        "id": "0Q-R_6kcTiML",
        "outputId": "7ee6c773-eb7e-443f-e194-d1bbe4a93e49"
      },
      "execution_count": 31,
      "outputs": [
        {
          "output_type": "error",
          "ename": "ValueError",
          "evalue": "Input 0 of layer \"lstm_9\" is incompatible with the layer: expected ndim=3, found ndim=2. Full shape received: (None, 64)",
          "traceback": [
            "\u001b[0;31m---------------------------------------------------------------------------\u001b[0m",
            "\u001b[0;31mValueError\u001b[0m                                Traceback (most recent call last)",
            "\u001b[0;32m<ipython-input-31-4e5c462728e5>\u001b[0m in \u001b[0;36m<cell line: 8>\u001b[0;34m()\u001b[0m\n\u001b[1;32m      7\u001b[0m \u001b[0;31m# Создание и компиляция моделей\u001b[0m\u001b[0;34m\u001b[0m\u001b[0;34m\u001b[0m\u001b[0m\n\u001b[1;32m      8\u001b[0m \u001b[0;32mfor\u001b[0m \u001b[0mmodel_type\u001b[0m \u001b[0;32min\u001b[0m \u001b[0mmodel_types\u001b[0m\u001b[0;34m:\u001b[0m\u001b[0;34m\u001b[0m\u001b[0;34m\u001b[0m\u001b[0m\n\u001b[0;32m----> 9\u001b[0;31m     \u001b[0mmodel\u001b[0m \u001b[0;34m=\u001b[0m \u001b[0mcreate_model\u001b[0m\u001b[0;34m(\u001b[0m\u001b[0mmodel_type\u001b[0m\u001b[0;34m)\u001b[0m\u001b[0;34m\u001b[0m\u001b[0;34m\u001b[0m\u001b[0m\n\u001b[0m\u001b[1;32m     10\u001b[0m     \u001b[0mmodel\u001b[0m\u001b[0;34m.\u001b[0m\u001b[0mcompile\u001b[0m\u001b[0;34m(\u001b[0m\u001b[0moptimizer\u001b[0m\u001b[0;34m=\u001b[0m\u001b[0;34m'adam'\u001b[0m\u001b[0;34m,\u001b[0m \u001b[0mloss\u001b[0m\u001b[0;34m=\u001b[0m\u001b[0;34m'categorical_crossentropy'\u001b[0m\u001b[0;34m,\u001b[0m \u001b[0mmetrics\u001b[0m\u001b[0;34m=\u001b[0m\u001b[0;34m[\u001b[0m\u001b[0;34m'accuracy'\u001b[0m\u001b[0;34m]\u001b[0m\u001b[0;34m)\u001b[0m\u001b[0;34m\u001b[0m\u001b[0;34m\u001b[0m\u001b[0m\n\u001b[1;32m     11\u001b[0m     \u001b[0mmodels_list\u001b[0m\u001b[0;34m.\u001b[0m\u001b[0mappend\u001b[0m\u001b[0;34m(\u001b[0m\u001b[0mmodel\u001b[0m\u001b[0;34m)\u001b[0m\u001b[0;34m\u001b[0m\u001b[0;34m\u001b[0m\u001b[0m\n",
            "\u001b[0;32m<ipython-input-29-b7add9e42074>\u001b[0m in \u001b[0;36mcreate_model\u001b[0;34m(model_type)\u001b[0m\n\u001b[1;32m    100\u001b[0m         \u001b[0;31m# Преобразуем x для использования в LSTM\u001b[0m\u001b[0;34m\u001b[0m\u001b[0;34m\u001b[0m\u001b[0m\n\u001b[1;32m    101\u001b[0m         \u001b[0mx\u001b[0m \u001b[0;34m=\u001b[0m \u001b[0mDense\u001b[0m\u001b[0;34m(\u001b[0m\u001b[0;36m64\u001b[0m\u001b[0;34m,\u001b[0m \u001b[0mactivation\u001b[0m\u001b[0;34m=\u001b[0m\u001b[0;34m'relu'\u001b[0m\u001b[0;34m)\u001b[0m\u001b[0;34m(\u001b[0m\u001b[0mx\u001b[0m\u001b[0;34m)\u001b[0m  \u001b[0;31m# Подготовка к LSTM\u001b[0m\u001b[0;34m\u001b[0m\u001b[0;34m\u001b[0m\u001b[0m\n\u001b[0;32m--> 102\u001b[0;31m         \u001b[0mx\u001b[0m \u001b[0;34m=\u001b[0m \u001b[0mLSTM\u001b[0m\u001b[0;34m(\u001b[0m\u001b[0;36m32\u001b[0m\u001b[0;34m)\u001b[0m\u001b[0;34m(\u001b[0m\u001b[0mx\u001b[0m\u001b[0;34m)\u001b[0m\u001b[0;34m\u001b[0m\u001b[0;34m\u001b[0m\u001b[0m\n\u001b[0m\u001b[1;32m    103\u001b[0m \u001b[0;34m\u001b[0m\u001b[0m\n\u001b[1;32m    104\u001b[0m \u001b[0;34m\u001b[0m\u001b[0m\n",
            "\u001b[0;32m/usr/local/lib/python3.10/dist-packages/keras/src/layers/rnn/base_rnn.py\u001b[0m in \u001b[0;36m__call__\u001b[0;34m(self, inputs, initial_state, constants, **kwargs)\u001b[0m\n\u001b[1;32m    554\u001b[0m \u001b[0;34m\u001b[0m\u001b[0m\n\u001b[1;32m    555\u001b[0m         \u001b[0;32mif\u001b[0m \u001b[0minitial_state\u001b[0m \u001b[0;32mis\u001b[0m \u001b[0;32mNone\u001b[0m \u001b[0;32mand\u001b[0m \u001b[0mconstants\u001b[0m \u001b[0;32mis\u001b[0m \u001b[0;32mNone\u001b[0m\u001b[0;34m:\u001b[0m\u001b[0;34m\u001b[0m\u001b[0;34m\u001b[0m\u001b[0m\n\u001b[0;32m--> 556\u001b[0;31m             \u001b[0;32mreturn\u001b[0m \u001b[0msuper\u001b[0m\u001b[0;34m(\u001b[0m\u001b[0;34m)\u001b[0m\u001b[0;34m.\u001b[0m\u001b[0m__call__\u001b[0m\u001b[0;34m(\u001b[0m\u001b[0minputs\u001b[0m\u001b[0;34m,\u001b[0m \u001b[0;34m**\u001b[0m\u001b[0mkwargs\u001b[0m\u001b[0;34m)\u001b[0m\u001b[0;34m\u001b[0m\u001b[0;34m\u001b[0m\u001b[0m\n\u001b[0m\u001b[1;32m    557\u001b[0m \u001b[0;34m\u001b[0m\u001b[0m\n\u001b[1;32m    558\u001b[0m         \u001b[0;31m# If any of `initial_state` or `constants` are specified and are Keras\u001b[0m\u001b[0;34m\u001b[0m\u001b[0;34m\u001b[0m\u001b[0m\n",
            "\u001b[0;32m/usr/local/lib/python3.10/dist-packages/keras/src/utils/traceback_utils.py\u001b[0m in \u001b[0;36merror_handler\u001b[0;34m(*args, **kwargs)\u001b[0m\n\u001b[1;32m     68\u001b[0m             \u001b[0;31m# To get the full stack trace, call:\u001b[0m\u001b[0;34m\u001b[0m\u001b[0;34m\u001b[0m\u001b[0m\n\u001b[1;32m     69\u001b[0m             \u001b[0;31m# `tf.debugging.disable_traceback_filtering()`\u001b[0m\u001b[0;34m\u001b[0m\u001b[0;34m\u001b[0m\u001b[0m\n\u001b[0;32m---> 70\u001b[0;31m             \u001b[0;32mraise\u001b[0m \u001b[0me\u001b[0m\u001b[0;34m.\u001b[0m\u001b[0mwith_traceback\u001b[0m\u001b[0;34m(\u001b[0m\u001b[0mfiltered_tb\u001b[0m\u001b[0;34m)\u001b[0m \u001b[0;32mfrom\u001b[0m \u001b[0;32mNone\u001b[0m\u001b[0;34m\u001b[0m\u001b[0;34m\u001b[0m\u001b[0m\n\u001b[0m\u001b[1;32m     71\u001b[0m         \u001b[0;32mfinally\u001b[0m\u001b[0;34m:\u001b[0m\u001b[0;34m\u001b[0m\u001b[0;34m\u001b[0m\u001b[0m\n\u001b[1;32m     72\u001b[0m             \u001b[0;32mdel\u001b[0m \u001b[0mfiltered_tb\u001b[0m\u001b[0;34m\u001b[0m\u001b[0;34m\u001b[0m\u001b[0m\n",
            "\u001b[0;32m/usr/local/lib/python3.10/dist-packages/keras/src/engine/input_spec.py\u001b[0m in \u001b[0;36massert_input_compatibility\u001b[0;34m(input_spec, inputs, layer_name)\u001b[0m\n\u001b[1;32m    233\u001b[0m             \u001b[0mndim\u001b[0m \u001b[0;34m=\u001b[0m \u001b[0mshape\u001b[0m\u001b[0;34m.\u001b[0m\u001b[0mrank\u001b[0m\u001b[0;34m\u001b[0m\u001b[0;34m\u001b[0m\u001b[0m\n\u001b[1;32m    234\u001b[0m             \u001b[0;32mif\u001b[0m \u001b[0mndim\u001b[0m \u001b[0;34m!=\u001b[0m \u001b[0mspec\u001b[0m\u001b[0;34m.\u001b[0m\u001b[0mndim\u001b[0m\u001b[0;34m:\u001b[0m\u001b[0;34m\u001b[0m\u001b[0;34m\u001b[0m\u001b[0m\n\u001b[0;32m--> 235\u001b[0;31m                 raise ValueError(\n\u001b[0m\u001b[1;32m    236\u001b[0m                     \u001b[0;34mf'Input {input_index} of layer \"{layer_name}\" '\u001b[0m\u001b[0;34m\u001b[0m\u001b[0;34m\u001b[0m\u001b[0m\n\u001b[1;32m    237\u001b[0m                     \u001b[0;34m\"is incompatible with the layer: \"\u001b[0m\u001b[0;34m\u001b[0m\u001b[0;34m\u001b[0m\u001b[0m\n",
            "\u001b[0;31mValueError\u001b[0m: Input 0 of layer \"lstm_9\" is incompatible with the layer: expected ndim=3, found ndim=2. Full shape received: (None, 64)"
          ]
        }
      ]
    },
    {
      "cell_type": "code",
      "source": [],
      "metadata": {
        "id": "kjYl2Tvlnno9"
      },
      "execution_count": null,
      "outputs": []
    }
  ]
}