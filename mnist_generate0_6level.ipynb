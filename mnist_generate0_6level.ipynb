{
  "nbformat": 4,
  "nbformat_minor": 0,
  "metadata": {
    "colab": {
      "provenance": [],
      "gpuType": "T4",
      "authorship_tag": "ABX9TyMtaBKzTYz/GQ70If17f6B5",
      "include_colab_link": true
    },
    "kernelspec": {
      "name": "python3",
      "display_name": "Python 3"
    },
    "language_info": {
      "name": "python"
    },
    "accelerator": "GPU"
  },
  "cells": [
    {
      "cell_type": "markdown",
      "metadata": {
        "id": "view-in-github",
        "colab_type": "text"
      },
      "source": [
        "<a href=\"https://colab.research.google.com/github/BorisLoveDev/agents-of-uniform-difficulty/blob/main/mnist_generate0_6level.ipynb\" target=\"_parent\"><img src=\"https://colab.research.google.com/assets/colab-badge.svg\" alt=\"Open In Colab\"/></a>"
      ]
    },
    {
      "cell_type": "code",
      "source": [
        "import numpy as np\n",
        "from tensorflow.keras.layers import Conv2D, MaxPooling2D, Dropout\n",
        "from tensorflow.keras.datasets import mnist\n",
        "from tensorflow.keras.utils import to_categorical\n",
        "from tensorflow.keras.models import Sequential\n",
        "from tensorflow.keras.layers import Dense, Flatten\n",
        "from tensorflow.keras.optimizers import Adam\n",
        "from sklearn.model_selection import train_test_split\n",
        "import matplotlib.pyplot as plt\n",
        "import os"
      ],
      "metadata": {
        "id": "-LESJJ9u7bjU"
      },
      "execution_count": 1,
      "outputs": []
    },
    {
      "cell_type": "code",
      "source": [
        "from google.colab import drive\n",
        "# Подключение Google Drive\n",
        "drive.mount('/content/drive')"
      ],
      "metadata": {
        "id": "kNm_F8qC7dug",
        "colab": {
          "base_uri": "https://localhost:8080/"
        },
        "outputId": "90574de5-77c0-4e5c-a25c-247a22204c78"
      },
      "execution_count": 3,
      "outputs": [
        {
          "output_type": "stream",
          "name": "stdout",
          "text": [
            "Mounted at /content/drive\n"
          ]
        }
      ]
    },
    {
      "cell_type": "code",
      "source": [
        "# Загрузка и нормализация данных MNIST\n",
        "(x_train, y_train), (x_test, y_test) = mnist.load_data()\n",
        "x_train = x_train / 255.0\n",
        "x_test = x_test / 255.0\n",
        "\n",
        "# Применение one-hot encoding\n",
        "y_test_ohe = to_categorical(y_test, 10)\n",
        "y_train_ohe = to_categorical(y_train, 10)\n",
        "y_train_ohe.shape"
      ],
      "metadata": {
        "id": "p6SUnaDC7ogF",
        "colab": {
          "base_uri": "https://localhost:8080/"
        },
        "outputId": "d26e9dbb-b766-4497-dd73-f093f59ca094"
      },
      "execution_count": 16,
      "outputs": [
        {
          "output_type": "execute_result",
          "data": {
            "text/plain": [
              "(60000, 10)"
            ]
          },
          "metadata": {},
          "execution_count": 16
        }
      ]
    },
    {
      "cell_type": "code",
      "execution_count": 18,
      "metadata": {
        "id": "EkBHYjmw1n88",
        "colab": {
          "base_uri": "https://localhost:8080/"
        },
        "outputId": "f0e914c5-b349-467e-8eff-0717a71f975f"
      },
      "outputs": [
        {
          "output_type": "stream",
          "name": "stdout",
          "text": [
            "Epoch 1/5\n",
            "313/313 [==============================] - 2s 3ms/step - loss: 0.5183 - accuracy: 0.8580\n",
            "Epoch 2/5\n",
            "313/313 [==============================] - 1s 3ms/step - loss: 0.2456 - accuracy: 0.9307\n",
            "Epoch 3/5\n",
            "313/313 [==============================] - 1s 3ms/step - loss: 0.1805 - accuracy: 0.9498\n",
            "Epoch 4/5\n",
            "313/313 [==============================] - 1s 3ms/step - loss: 0.1429 - accuracy: 0.9592\n",
            "Epoch 5/5\n",
            "313/313 [==============================] - 1s 3ms/step - loss: 0.1104 - accuracy: 0.9680\n"
          ]
        },
        {
          "output_type": "execute_result",
          "data": {
            "text/plain": [
              "<keras.src.callbacks.History at 0x7c755612d240>"
            ]
          },
          "metadata": {},
          "execution_count": 18
        }
      ],
      "source": [
        "# Создание и обучение модели на тестовых данных\n",
        "model = Sequential([\n",
        "    Flatten(input_shape=(28, 28, 1)),\n",
        "    Dense(128, activation='relu'),\n",
        "    Dense(10, activation='softmax')\n",
        "])\n",
        "model.compile(optimizer=Adam(), loss='categorical_crossentropy', metrics=['accuracy'])\n",
        "model.fit(x_train[:10000], y_train_ohe[:10000], epochs=5, batch_size=32, verbose=1)\n"
      ]
    },
    {
      "cell_type": "code",
      "source": [
        "# Оценка модели на тестовых данных\n",
        "# Сначала необходимо преобразовать x_test к формату, совместимому с моделью\n",
        "x_test_reshaped = x_test.reshape(-1, 28, 28, 1)\n",
        "# Оценка точности на тестовом наборе\n",
        "loss, accuracy = model.evaluate(x_test_reshaped, y_test_ohe, verbose=0)\n",
        "print(f\"Точность на тестовых данных: {accuracy*100:.2f}%\")\n",
        "\n",
        "# Прогнозирование на тестовых данных\n",
        "predictions = model.predict(x_test_reshaped)\n",
        "\n",
        "# Преобразование прогнозов в индексы максимальных значений (классы)\n",
        "predicted_classes = np.argmax(predictions, axis=1)\n",
        "\n",
        "# Сравнение предсказанных классов с истинными и сохранение индексов правильно классифицированных образцов\n",
        "correct_indices = np.nonzero(predicted_classes == y_test)[0]\n",
        "\n",
        "# Создание подмножества x_test и y_test, содержащего только правильно классифицированные примеры\n",
        "x_test_subset = x_test[correct_indices]\n",
        "y_test_subset = y_test[correct_indices]\n",
        "\n",
        "# Путь к папке на Google Drive\n",
        "folder_path = '/content/drive/My Drive/all_difficulty_data_mnist'\n",
        "\n",
        "# Проверяем, существует ли папка, если нет - создаем ее\n",
        "if not os.path.exists(folder_path):\n",
        "    os.makedirs(folder_path)\n",
        "    print(f'Папка {folder_path} создана.')\n",
        "else:\n",
        "    print(f'Папка {folder_path} уже существует.')\n",
        "# Убираем ограничение на количество сохраняемых данных\n",
        "# Сохранение данных\n",
        "np.save(os.path.join(folder_path, 'x_data_difficult_level_0.npy'), x_test_subset)\n",
        "np.save(os.path.join(folder_path, 'y_data_difficult_level_0.npy'), y_test_subset)\n",
        "\n",
        "print(f'Сохранено {len(correct_indices)} изображений и их меток, которые были правильно классифицированы моделью.')\n"
      ],
      "metadata": {
        "colab": {
          "base_uri": "https://localhost:8080/"
        },
        "id": "S9MMotp-8p4y",
        "outputId": "d9e7c853-3e54-4832-feb0-78263a33f726"
      },
      "execution_count": 35,
      "outputs": [
        {
          "output_type": "stream",
          "name": "stdout",
          "text": [
            "Точность на тестовых данных: 94.39%\n",
            "313/313 [==============================] - 1s 2ms/step\n",
            "Папка /content/drive/My Drive/all_difficulty_data_mnist уже существует.\n",
            "Сохранено 9439 изображений и их меток, которые были правильно классифицированы моделью.\n"
          ]
        }
      ]
    },
    {
      "cell_type": "code",
      "source": [
        "model2 = Sequential([\n",
        "    Conv2D(64, kernel_size=(3, 3), activation='relu', input_shape=(28, 28, 1)),\n",
        "    MaxPooling2D(pool_size=(2, 2)),\n",
        "    Conv2D(128, (3, 3), activation='relu'),\n",
        "    MaxPooling2D(pool_size=(2, 2)),\n",
        "    Dropout(0.25),\n",
        "    Flatten(),\n",
        "    Dense(256, activation='relu'),\n",
        "    Dropout(0.5),\n",
        "    Dense(10, activation='softmax')\n",
        "])\n",
        "\n",
        "model2.compile(optimizer='adam', loss='categorical_crossentropy', metrics=['accuracy'])\n",
        "\n",
        "# Обучение model2 на тренировочных данных\n",
        "model2.fit(x_train, y_train_ohe, epochs=10, batch_size=128, validation_split=0.1, verbose=1)\n"
      ],
      "metadata": {
        "colab": {
          "base_uri": "https://localhost:8080/"
        },
        "id": "huV08351ZOye",
        "outputId": "b0b83916-cf3d-470b-911b-30257da144c1"
      },
      "execution_count": 25,
      "outputs": [
        {
          "output_type": "stream",
          "name": "stdout",
          "text": [
            "Epoch 1/10\n",
            "422/422 [==============================] - 9s 9ms/step - loss: 0.2239 - accuracy: 0.9305 - val_loss: 0.0531 - val_accuracy: 0.9845\n",
            "Epoch 2/10\n",
            "422/422 [==============================] - 3s 8ms/step - loss: 0.0706 - accuracy: 0.9774 - val_loss: 0.0388 - val_accuracy: 0.9905\n",
            "Epoch 3/10\n",
            "422/422 [==============================] - 4s 9ms/step - loss: 0.0537 - accuracy: 0.9839 - val_loss: 0.0310 - val_accuracy: 0.9902\n",
            "Epoch 4/10\n",
            "422/422 [==============================] - 3s 8ms/step - loss: 0.0422 - accuracy: 0.9867 - val_loss: 0.0310 - val_accuracy: 0.9908\n",
            "Epoch 5/10\n",
            "422/422 [==============================] - 3s 8ms/step - loss: 0.0354 - accuracy: 0.9888 - val_loss: 0.0312 - val_accuracy: 0.9905\n",
            "Epoch 6/10\n",
            "422/422 [==============================] - 3s 8ms/step - loss: 0.0317 - accuracy: 0.9906 - val_loss: 0.0272 - val_accuracy: 0.9930\n",
            "Epoch 7/10\n",
            "422/422 [==============================] - 4s 10ms/step - loss: 0.0272 - accuracy: 0.9913 - val_loss: 0.0256 - val_accuracy: 0.9925\n",
            "Epoch 8/10\n",
            "422/422 [==============================] - 3s 8ms/step - loss: 0.0227 - accuracy: 0.9927 - val_loss: 0.0266 - val_accuracy: 0.9925\n",
            "Epoch 9/10\n",
            "422/422 [==============================] - 3s 8ms/step - loss: 0.0200 - accuracy: 0.9933 - val_loss: 0.0291 - val_accuracy: 0.9932\n",
            "Epoch 10/10\n",
            "422/422 [==============================] - 3s 8ms/step - loss: 0.0181 - accuracy: 0.9943 - val_loss: 0.0313 - val_accuracy: 0.9922\n"
          ]
        },
        {
          "output_type": "execute_result",
          "data": {
            "text/plain": [
              "<keras.src.callbacks.History at 0x7c7554ebe410>"
            ]
          },
          "metadata": {},
          "execution_count": 25
        }
      ]
    },
    {
      "cell_type": "code",
      "source": [
        "# Функция для деформации изображения, как определено ранее\n",
        "def deform_image_optimized(image, A, B, M=28, NP=5):\n",
        "    C = M / (NP + 1.0)\n",
        "    XN, YN = np.zeros(M), np.zeros(M)\n",
        "    DX, DY = np.linspace(0, M-1, M), np.linspace(0, M-1, M)\n",
        "\n",
        "    for j in range(NP):\n",
        "        TXN = (j + 0.5 - np.random.random()) * C\n",
        "        TYN = (j + 0.5 - np.random.random()) * C\n",
        "        TDX = (j + 0.5 - np.random.random()) * C\n",
        "        TDY = (j + 0.5 - np.random.random()) * C\n",
        "        AXN = B * (1.0 - 2.0 * np.random.random())\n",
        "        AYN = B * (1.0 - 2.0 * np.random.random())\n",
        "        ADX = A * (1.0 - 2.0 * np.random.random())\n",
        "        ADY = A * (1.0 - 2.0 * np.random.random())\n",
        "        PXN = (0.1 + 0.9 * np.random.random()) * C\n",
        "        PYN = (0.1 + 0.9 * np.random.random()) * C\n",
        "        PDX = (0.1 + 0.9 * np.random.random()) * C\n",
        "        PDY = (0.1 + 0.9 * np.random.random()) * C\n",
        "\n",
        "        DX += ADX * np.exp(-((DX - TDX) / PDX)**2)\n",
        "        DY += ADY * np.exp(-((DY - TDY) / PDY)**2)\n",
        "        XN += AXN * np.exp(-((DX - TXN) / PXN)**2)\n",
        "        YN += AYN * np.exp(-((DY - TYN) / PYN)**2)\n",
        "\n",
        "    deformed_image = np.zeros((M, M))\n",
        "    for j in range(M):\n",
        "        for i in range(M):\n",
        "            x_index = int(DX[i] + XN[j])\n",
        "            y_index = int(DY[j] + YN[i])\n",
        "            if 0 <= x_index < M and 0 <= y_index < M:\n",
        "                deformed_image[j, i] = image[y_index, x_index] if y_index < image.shape[0] and x_index < image.shape[1] else 0\n",
        "\n",
        "    return deformed_image"
      ],
      "metadata": {
        "id": "IDDXpVxmATsD"
      },
      "execution_count": 23,
      "outputs": []
    },
    {
      "cell_type": "code",
      "source": [
        "# Оценка точности на тестовом наборе\n",
        "loss, accuracy = model2.evaluate(x_test_reshaped, y_test_ohe, verbose=0)\n",
        "print(f\"Точность на тестовых данных: {accuracy*100:.2f}%\")"
      ],
      "metadata": {
        "colab": {
          "base_uri": "https://localhost:8080/"
        },
        "id": "teqdXpbGamZh",
        "outputId": "04b7ff09-5673-4875-de16-2d5eb87a91ad"
      },
      "execution_count": 26,
      "outputs": [
        {
          "output_type": "stream",
          "name": "stdout",
          "text": [
            "Точность на тестовых данных: 99.35%\n"
          ]
        }
      ]
    },
    {
      "cell_type": "code",
      "source": [
        "# Параметры деформации для неразличимых изображений\n",
        "A, B = 12.0, 32.0\n",
        "\n",
        "# Подготовка деформированных тестовых данных\n",
        "deformed_images = np.array([deform_image_optimized(image.reshape(28, 28), A, B) for image in x_test]).reshape(-1, 28, 28, 1)\n",
        "\n",
        "# Переформатирование меток тестовых данных для совместимости с оценкой\n",
        "y_test_ohe_deformed = to_categorical(y_test, 10)\n",
        "\n",
        "# Оценка точности на деформированных тестовых данных\n",
        "loss, accuracy = model2.evaluate(deformed_images, y_test_ohe_deformed, verbose=0)\n",
        "print(f\"Точность на деформированных тестовых данных: {accuracy*100:.2f}%\")\n"
      ],
      "metadata": {
        "colab": {
          "base_uri": "https://localhost:8080/"
        },
        "id": "faAey5shAUeY",
        "outputId": "3ba1548e-ba75-425d-c402-10733c882397"
      },
      "execution_count": 32,
      "outputs": [
        {
          "output_type": "stream",
          "name": "stdout",
          "text": [
            "Точность на деформированных тестовых данных: 11.14%\n"
          ]
        }
      ]
    },
    {
      "cell_type": "code",
      "source": [
        "# Выбор и вывод 6 деформированных изображений\n",
        "fig, axes = plt.subplots(1, 6, figsize=(20, 3))\n",
        "for i, ax in enumerate(axes):\n",
        "    ax.imshow(deformed_images[i].reshape(28, 28), cmap='gray')\n",
        "    ax.set_title(f\"Label: {y_test[i]}\")\n",
        "    ax.axis('off')\n",
        "plt.show()\n"
      ],
      "metadata": {
        "colab": {
          "base_uri": "https://localhost:8080/",
          "height": 280
        },
        "id": "6c-VV_ARcgZS",
        "outputId": "35808197-a8de-4a3f-b01f-53b16a524855"
      },
      "execution_count": 33,
      "outputs": [
        {
          "output_type": "display_data",
          "data": {
            "text/plain": [
              "<Figure size 2000x300 with 6 Axes>"
            ],
            "image/png": "[encoded data removed]"
          },
          "metadata": {}
        }
      ]
    },
    {
      "cell_type": "code",
      "source": [
        "# Сохранение всех деформированных изображений и их меток в указанной папке на Google Drive\n",
        "np.save(os.path.join(folder_path, 'x_data_difficult_level_6.npy'), deformed_images)\n",
        "np.save(os.path.join(folder_path, 'y_data_difficult_level_6.npy'), y_test)\n",
        "\n",
        "print(f'Все деформированные изображения и их метки для уровня сложности 6 сохранены.')\n"
      ],
      "metadata": {
        "colab": {
          "base_uri": "https://localhost:8080/"
        },
        "id": "_kjMpz0ZckC_",
        "outputId": "27d4ca77-8935-4dcf-fc9a-092bfa1eaef7"
      },
      "execution_count": 34,
      "outputs": [
        {
          "output_type": "stream",
          "name": "stdout",
          "text": [
            "Все деформированные изображения и их метки для уровня сложности 6 сохранены.\n"
          ]
        }
      ]
    }
  ]
}